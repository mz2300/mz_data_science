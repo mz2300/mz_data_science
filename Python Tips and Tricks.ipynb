{
 "cells": [
  {
   "cell_type": "markdown",
   "metadata": {
    "id": "0Z0On3eibMuJ"
   },
   "source": [
    "## Using mutable data types in functions"
   ]
  },
  {
   "cell_type": "code",
   "execution_count": 1,
   "metadata": {
    "colab": {
     "base_uri": "https://localhost:8080/"
    },
    "id": "6f9HiMdHuE1c",
    "outputId": "910bef9d-555b-4bb2-936b-eca01862a8ce"
   },
   "outputs": [
    {
     "name": "stdout",
     "output_type": "stream",
     "text": [
      "{'a': 1, 'b': 2, 'c': 3}\n"
     ]
    }
   ],
   "source": [
    "a = {'a': 1, 'b':2, 'c':3}\n",
    "print(a)"
   ]
  },
  {
   "cell_type": "code",
   "execution_count": 2,
   "metadata": {
    "id": "v5_oemIyuLxk"
   },
   "outputs": [],
   "source": [
    "def foo_wrong(a:dict) -> dict:\n",
    "    a['z'] = 99\n",
    "    return a\n",
    "\n",
    "# question: how should this function be changed so dict 'a' would not changed?"
   ]
  },
  {
   "cell_type": "code",
   "execution_count": 3,
   "metadata": {
    "id": "QQwuAakvcFZS"
   },
   "outputs": [],
   "source": [
    "def foo_correct(a:dict) -> dict:\n",
    "    a = a.copy() # <- this line of code makes a HUUUUGE difference!\n",
    "    a['z'] = 99\n",
    "    return a"
   ]
  },
  {
   "cell_type": "code",
   "execution_count": 4,
   "metadata": {
    "colab": {
     "base_uri": "https://localhost:8080/"
    },
    "id": "fAk0nEUPuTBa",
    "outputId": "1d10b0b4-ea7c-43c8-c2ac-c5cd778d216f"
   },
   "outputs": [
    {
     "name": "stdout",
     "output_type": "stream",
     "text": [
      "{'a': 1, 'b': 2, 'c': 3, 'z': 99}\n",
      "{'a': 1, 'b': 2, 'c': 3, 'z': 99}\n"
     ]
    }
   ],
   "source": [
    "b = foo_wrong(a)\n",
    "print(a)\n",
    "print(b)"
   ]
  },
  {
   "cell_type": "code",
   "execution_count": 5,
   "metadata": {
    "colab": {
     "base_uri": "https://localhost:8080/"
    },
    "id": "3Ct-h8WduU7-",
    "outputId": "08de42d0-59f5-4adb-a30d-16c0c90db5c2"
   },
   "outputs": [
    {
     "name": "stdout",
     "output_type": "stream",
     "text": [
      "{'a': 1, 'b': 2, 'c': 3}\n",
      "{'a': 1, 'b': 2, 'c': 3, 'z': 99}\n"
     ]
    }
   ],
   "source": [
    "a = {'a': 1, 'b':2, 'c':3}\n",
    "b = foo_correct(a)\n",
    "print(a)\n",
    "print(b)"
   ]
  },
  {
   "cell_type": "markdown",
   "metadata": {
    "id": "14TjpkVhblV-"
   },
   "source": [
    "## Small Manual GroupBy "
   ]
  },
  {
   "cell_type": "code",
   "execution_count": 6,
   "metadata": {
    "id": "MJcO9leh7BVR"
   },
   "outputs": [],
   "source": [
    "a = [1,2,3,4,5,6,4,3]\n",
    "b = ['a', 'c', 'b', 'b', 'a', 'a', 'b', 'c']"
   ]
  },
  {
   "cell_type": "code",
   "execution_count": 7,
   "metadata": {
    "id": "4bJMvfmf7RHv"
   },
   "outputs": [],
   "source": [
    "def groupBy(a, b) -> dict:\n",
    "    res = dict()\n",
    "    for i, j in zip(a, b):\n",
    "        res[j] = res.get(j, 0) + i\n",
    "    return res"
   ]
  },
  {
   "cell_type": "code",
   "execution_count": 8,
   "metadata": {
    "colab": {
     "base_uri": "https://localhost:8080/"
    },
    "id": "jLgGYmCS71Rs",
    "outputId": "61498763-a16f-416d-dfd3-4c173f527bf0"
   },
   "outputs": [
    {
     "name": "stdout",
     "output_type": "stream",
     "text": [
      "{'a': 12, 'c': 5, 'b': 11}\n"
     ]
    }
   ],
   "source": [
    "print(groupBy(a, b))"
   ]
  },
  {
   "cell_type": "markdown",
   "metadata": {
    "id": "nyzZLKRubrNc"
   },
   "source": [
    "## Immutable data types inside of mutable datatypes (e.g. List inside of Tuple)"
   ]
  },
  {
   "cell_type": "code",
   "execution_count": 9,
   "metadata": {
    "colab": {
     "base_uri": "https://localhost:8080/"
    },
    "id": "n-IP2Ldz71e6",
    "outputId": "05217340-cf1a-4a4b-ade2-1b32e0ce714f"
   },
   "outputs": [
    {
     "name": "stdout",
     "output_type": "stream",
     "text": [
      "(1, 2, [10, 20])\n"
     ]
    }
   ],
   "source": [
    "t = (1, 2, [10, 20])\n",
    "print(t)"
   ]
  },
  {
   "cell_type": "code",
   "execution_count": 10,
   "metadata": {
    "colab": {
     "base_uri": "https://localhost:8080/"
    },
    "id": "Rodt3mMRYnx0",
    "outputId": "a9e87e33-60e6-48fa-db42-89d6cdfb174c"
   },
   "outputs": [
    {
     "name": "stdout",
     "output_type": "stream",
     "text": [
      "(1, 2, [10, 20, 90])\n"
     ]
    }
   ],
   "source": [
    "t[2].append(90)\n",
    "print(t)"
   ]
  },
  {
   "cell_type": "markdown",
   "metadata": {
    "id": "ZSpiI7M3b284"
   },
   "source": [
    "## Empty tuple memory allocation trick"
   ]
  },
  {
   "cell_type": "code",
   "execution_count": 11,
   "metadata": {
    "colab": {
     "base_uri": "https://localhost:8080/"
    },
    "id": "x7Gd2WvBZNIH",
    "outputId": "f8923e74-7140-4ea3-b6b4-0224d9f765e1"
   },
   "outputs": [
    {
     "name": "stdout",
     "output_type": "stream",
     "text": [
      "True\n"
     ]
    }
   ],
   "source": [
    "a = ()\n",
    "b = ()\n",
    "print(a is b)"
   ]
  },
  {
   "cell_type": "code",
   "execution_count": 12,
   "metadata": {
    "colab": {
     "base_uri": "https://localhost:8080/"
    },
    "id": "KE3hKYXPGsQO",
    "outputId": "bc051495-957d-4ac3-a2ec-25714d078fa7"
   },
   "outputs": [
    {
     "name": "stderr",
     "output_type": "stream",
     "text": [
      "<>:1: SyntaxWarning: \"is\" with a literal. Did you mean \"==\"?\n",
      "<>:1: SyntaxWarning: \"is\" with a literal. Did you mean \"==\"?\n",
      "<ipython-input-12-7edb8fe79427>:1: SyntaxWarning: \"is\" with a literal. Did you mean \"==\"?\n",
      "  'abc' is 'abc'\n"
     ]
    },
    {
     "data": {
      "text/plain": [
       "True"
      ]
     },
     "execution_count": 12,
     "metadata": {},
     "output_type": "execute_result"
    }
   ],
   "source": [
    "'abc' is 'abc'"
   ]
  },
  {
   "cell_type": "code",
   "execution_count": 27,
   "metadata": {},
   "outputs": [
    {
     "data": {
      "text/plain": [
       "True"
      ]
     },
     "execution_count": 27,
     "metadata": {},
     "output_type": "execute_result"
    }
   ],
   "source": [
    "a = ''\n",
    "b = ''\n",
    "a is b"
   ]
  },
  {
   "cell_type": "code",
   "execution_count": 31,
   "metadata": {},
   "outputs": [
    {
     "data": {
      "text/plain": [
       "True"
      ]
     },
     "execution_count": 31,
     "metadata": {},
     "output_type": "execute_result"
    }
   ],
   "source": [
    "a = 'abc'\n",
    "b = 'abc'\n",
    "a is b"
   ]
  },
  {
   "cell_type": "markdown",
   "metadata": {
    "id": "rKymRkZsc-kF"
   },
   "source": [
    "## Size(not length!) of empty List"
   ]
  },
  {
   "cell_type": "code",
   "execution_count": 13,
   "metadata": {
    "colab": {
     "base_uri": "https://localhost:8080/"
    },
    "id": "iQnxRWTeZNMp",
    "outputId": "27dff816-228d-4146-e95d-bb45fd2ca101"
   },
   "outputs": [
    {
     "name": "stdout",
     "output_type": "stream",
     "text": [
      "56\n",
      "72\n"
     ]
    }
   ],
   "source": [
    "import sys\n",
    "\n",
    "l = []\n",
    "print(sys.getsizeof(l)) # 72\n",
    "\n",
    "l2 = [90, 80]\n",
    "print(sys.getsizeof(l2)) # 88 = 72 + 8 + 8"
   ]
  },
  {
   "cell_type": "markdown",
   "metadata": {
    "id": "FkuWsI0sj8ho"
   },
   "source": [
    "## List size after append/insert/extend methods execution"
   ]
  },
  {
   "cell_type": "code",
   "execution_count": 14,
   "metadata": {
    "colab": {
     "base_uri": "https://localhost:8080/"
    },
    "id": "NbzDcBZEZNQe",
    "outputId": "37e7fdb1-2ead-4ad6-e57e-8bf7a5134031"
   },
   "outputs": [
    {
     "name": "stdout",
     "output_type": "stream",
     "text": [
      "104\n",
      "104\n"
     ]
    }
   ],
   "source": [
    "l2.append(1)\n",
    "print(sys.getsizeof(l2))\n",
    "\n",
    "l2.append(1)\n",
    "print(sys.getsizeof(l2))\n",
    "\n",
    "# 120 = 88 + 4 x 8 (4 extra allocation spaces reserved during 1st .append() method execution)"
   ]
  },
  {
   "cell_type": "code",
   "execution_count": 15,
   "metadata": {
    "colab": {
     "base_uri": "https://localhost:8080/"
    },
    "id": "Ww-9bWSoZNT_",
    "outputId": "a492b808-92b5-451b-bc92-3ae10ca494a5"
   },
   "outputs": [
    {
     "name": "stdout",
     "output_type": "stream",
     "text": [
      "56\n",
      "list:  [[1, 2, 3, 4]]\n",
      "88\n"
     ]
    }
   ],
   "source": [
    "l3 = []\n",
    "print(sys.getsizeof(l3)) # 72\n",
    "\n",
    "# append(!) list as a new object to the initial list\n",
    "l3.append([1, 2, 3, 4]) \n",
    "print('list: ', l3)\n",
    "print(sys.getsizeof(l3)) # 104 = 72 + 8 x 4"
   ]
  },
  {
   "cell_type": "markdown",
   "metadata": {
    "id": "norvWpa21agR"
   },
   "source": [
    "## Generator + iterator"
   ]
  },
  {
   "cell_type": "markdown",
   "metadata": {
    "id": "mjzLwh0R1dch"
   },
   "source": [
    "If we put 'return' statement inside of generator it will throw a StopIteration exeption and generator will be stopped. Inside the 'for' loop this exception is handling."
   ]
  },
  {
   "cell_type": "code",
   "execution_count": 16,
   "metadata": {
    "id": "9Ja0NydkZNX8"
   },
   "outputs": [],
   "source": [
    "def gen(a):\n",
    "    val = 0\n",
    "    while True:\n",
    "        if val & 1 == 1:\n",
    "            yield val\n",
    "        elif val & 1 == 0:\n",
    "            yield val * 100\n",
    "\n",
    "        if val == a:\n",
    "            return 'Stop!'\n",
    "        \n",
    "        val += 1"
   ]
  },
  {
   "cell_type": "code",
   "execution_count": 17,
   "metadata": {
    "id": "v12RCoqQiWus"
   },
   "outputs": [],
   "source": [
    "k = iter(gen(2))"
   ]
  },
  {
   "cell_type": "code",
   "execution_count": 18,
   "metadata": {
    "colab": {
     "base_uri": "https://localhost:8080/",
     "height": 269
    },
    "id": "vlraN1LX06mg",
    "outputId": "30d08b04-fc5a-48db-8610-7ade2fe553f9"
   },
   "outputs": [
    {
     "name": "stdout",
     "output_type": "stream",
     "text": [
      "0\n",
      "1\n",
      "200\n"
     ]
    },
    {
     "ename": "StopIteration",
     "evalue": "Stop!",
     "output_type": "error",
     "traceback": [
      "\u001b[1;31m---------------------------------------------------------------------------\u001b[0m",
      "\u001b[1;31mStopIteration\u001b[0m                             Traceback (most recent call last)",
      "\u001b[1;32m<ipython-input-18-34224e6d28af>\u001b[0m in \u001b[0;36m<module>\u001b[1;34m\u001b[0m\n\u001b[0;32m      2\u001b[0m \u001b[0mprint\u001b[0m\u001b[1;33m(\u001b[0m\u001b[0mnext\u001b[0m\u001b[1;33m(\u001b[0m\u001b[0mk\u001b[0m\u001b[1;33m)\u001b[0m\u001b[1;33m)\u001b[0m\u001b[1;33m\u001b[0m\u001b[1;33m\u001b[0m\u001b[0m\n\u001b[0;32m      3\u001b[0m \u001b[0mprint\u001b[0m\u001b[1;33m(\u001b[0m\u001b[0mnext\u001b[0m\u001b[1;33m(\u001b[0m\u001b[0mk\u001b[0m\u001b[1;33m)\u001b[0m\u001b[1;33m)\u001b[0m\u001b[1;33m\u001b[0m\u001b[1;33m\u001b[0m\u001b[0m\n\u001b[1;32m----> 4\u001b[1;33m \u001b[0mprint\u001b[0m\u001b[1;33m(\u001b[0m\u001b[0mnext\u001b[0m\u001b[1;33m(\u001b[0m\u001b[0mk\u001b[0m\u001b[1;33m)\u001b[0m\u001b[1;33m)\u001b[0m\u001b[1;33m\u001b[0m\u001b[1;33m\u001b[0m\u001b[0m\n\u001b[0m\u001b[0;32m      5\u001b[0m \u001b[0mprint\u001b[0m\u001b[1;33m(\u001b[0m\u001b[0mnext\u001b[0m\u001b[1;33m(\u001b[0m\u001b[0mk\u001b[0m\u001b[1;33m)\u001b[0m\u001b[1;33m)\u001b[0m\u001b[1;33m\u001b[0m\u001b[1;33m\u001b[0m\u001b[0m\n",
      "\u001b[1;31mStopIteration\u001b[0m: Stop!"
     ]
    }
   ],
   "source": [
    "print(next(k))\n",
    "print(next(k))\n",
    "print(next(k))\n",
    "print(next(k))\n",
    "print(next(k))"
   ]
  },
  {
   "cell_type": "code",
   "execution_count": 19,
   "metadata": {
    "colab": {
     "base_uri": "https://localhost:8080/"
    },
    "id": "ZOU6JHRV1_8F",
    "outputId": "51a14d7e-4a96-43ce-fd94-92389db35592"
   },
   "outputs": [
    {
     "name": "stdout",
     "output_type": "stream",
     "text": [
      "0\n",
      "1\n",
      "200\n"
     ]
    }
   ],
   "source": [
    "for i in gen(2):\n",
    "    print(i)"
   ]
  },
  {
   "cell_type": "markdown",
   "metadata": {},
   "source": [
    "## Values Unpacking"
   ]
  },
  {
   "cell_type": "code",
   "execution_count": 20,
   "metadata": {
    "colab": {
     "base_uri": "https://localhost:8080/"
    },
    "id": "1ByGN_ZZ2Y5Y",
    "outputId": "0bd95898-b678-4ef7-f639-82d9399e0a23"
   },
   "outputs": [
    {
     "name": "stdout",
     "output_type": "stream",
     "text": [
      "1 2 3\n"
     ]
    }
   ],
   "source": [
    "# usual unpacking of all values\n",
    "coordinates = [1,2,3]\n",
    "x, y, z = coordinates\n",
    "print(x, y, z)"
   ]
  },
  {
   "cell_type": "code",
   "execution_count": 21,
   "metadata": {},
   "outputs": [
    {
     "name": "stdout",
     "output_type": "stream",
     "text": [
      "1\n",
      "2\n",
      "3 4 5\n"
     ]
    }
   ],
   "source": [
    "# unpack only the first two values, other values put in the list\n",
    "numbers = [1,2,3,4,5]\n",
    "a, b, *rest = numbers\n",
    "print(a)\n",
    "print(b)\n",
    "print(*rest)"
   ]
  },
  {
   "cell_type": "code",
   "execution_count": 22,
   "metadata": {},
   "outputs": [
    {
     "name": "stdout",
     "output_type": "stream",
     "text": [
      "1\n",
      "2\n"
     ]
    }
   ],
   "source": [
    "# unpack only the first two values, other values are not needed\n",
    "numbers = [1,2,3,4,5]\n",
    "a, b, *_ = numbers\n",
    "print(a)\n",
    "print(b)"
   ]
  },
  {
   "cell_type": "code",
   "execution_count": 23,
   "metadata": {},
   "outputs": [
    {
     "name": "stdout",
     "output_type": "stream",
     "text": [
      "1\n",
      "2\n",
      "3 4\n",
      "5\n"
     ]
    }
   ],
   "source": [
    "# unpack the first two values and the last one, other values put in the list\n",
    "numbers = [1,2,3,4,5]\n",
    "a, b, *rest, c = numbers\n",
    "print(a)\n",
    "print(b)\n",
    "print(*rest)\n",
    "print(c)"
   ]
  },
  {
   "cell_type": "markdown",
   "metadata": {},
   "source": [
    "## To improve readability of big numbers use underscore _"
   ]
  },
  {
   "cell_type": "code",
   "execution_count": 24,
   "metadata": {},
   "outputs": [
    {
     "data": {
      "text/plain": [
       "100101274590"
      ]
     },
     "execution_count": 24,
     "metadata": {},
     "output_type": "execute_result"
    }
   ],
   "source": [
    "# before\n",
    "x = 100100040023\n",
    "y = 1234567\n",
    "\n",
    "x + y"
   ]
  },
  {
   "cell_type": "code",
   "execution_count": 25,
   "metadata": {},
   "outputs": [
    {
     "data": {
      "text/plain": [
       "100101274590"
      ]
     },
     "execution_count": 25,
     "metadata": {},
     "output_type": "execute_result"
    }
   ],
   "source": [
    "# after\n",
    "x = 100_100_040_023\n",
    "y = 1_234_567\n",
    "\n",
    "x + y"
   ]
  },
  {
   "cell_type": "code",
   "execution_count": 26,
   "metadata": {},
   "outputs": [
    {
     "data": {
      "text/plain": [
       "'100,101,274,590'"
      ]
     },
     "execution_count": 26,
     "metadata": {},
     "output_type": "execute_result"
    }
   ],
   "source": [
    "# To include separator into the output number just use string formatting. \n",
    "f'{x + y:,}'"
   ]
  }
 ],
 "metadata": {
  "accelerator": "TPU",
  "colab": {
   "provenance": []
  },
  "gpuClass": "standard",
  "kernelspec": {
   "display_name": "Python 3",
   "language": "python",
   "name": "python3"
  },
  "language_info": {
   "codemirror_mode": {
    "name": "ipython",
    "version": 3
   },
   "file_extension": ".py",
   "mimetype": "text/x-python",
   "name": "python",
   "nbconvert_exporter": "python",
   "pygments_lexer": "ipython3",
   "version": "3.8.8"
  }
 },
 "nbformat": 4,
 "nbformat_minor": 1
}
