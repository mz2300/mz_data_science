{
 "cells": [
  {
   "cell_type": "code",
   "execution_count": 1,
   "id": "24358376",
   "metadata": {
    "execution": {
     "iopub.execute_input": "2022-10-24T02:19:51.157870Z",
     "iopub.status.busy": "2022-10-24T02:19:51.157417Z",
     "iopub.status.idle": "2022-10-24T02:19:51.167257Z",
     "shell.execute_reply": "2022-10-24T02:19:51.166418Z"
    },
    "papermill": {
     "duration": 0.028475,
     "end_time": "2022-10-24T02:19:51.169693",
     "exception": false,
     "start_time": "2022-10-24T02:19:51.141218",
     "status": "completed"
    },
    "tags": []
   },
   "outputs": [],
   "source": [
    "import numpy as np\n",
    "import pandas as pd"
   ]
  },
  {
   "cell_type": "code",
   "execution_count": 2,
   "id": "4870baaa",
   "metadata": {
    "execution": {
     "iopub.execute_input": "2022-10-24T02:19:51.201978Z",
     "iopub.status.busy": "2022-10-24T02:19:51.201156Z",
     "iopub.status.idle": "2022-10-24T02:19:52.251958Z",
     "shell.execute_reply": "2022-10-24T02:19:52.251124Z"
    },
    "papermill": {
     "duration": 1.070961,
     "end_time": "2022-10-24T02:19:52.254472",
     "exception": false,
     "start_time": "2022-10-24T02:19:51.183511",
     "status": "completed"
    },
    "tags": []
   },
   "outputs": [],
   "source": [
    "import matplotlib.pyplot as plt\n",
    "import seaborn as sns\n",
    "sns.set_theme()"
   ]
  },
  {
   "cell_type": "markdown",
   "id": "5d1daba7",
   "metadata": {
    "papermill": {
     "duration": 0.012062,
     "end_time": "2022-10-24T02:19:52.316776",
     "exception": false,
     "start_time": "2022-10-24T02:19:52.304714",
     "status": "completed"
    },
    "tags": []
   },
   "source": [
    "## Download datasets"
   ]
  },
  {
   "cell_type": "markdown",
   "id": "9fd47719",
   "metadata": {
    "papermill": {
     "duration": 0.011906,
     "end_time": "2022-10-24T02:19:52.341648",
     "exception": false,
     "start_time": "2022-10-24T02:19:52.329742",
     "status": "completed"
    },
    "tags": []
   },
   "source": [
    "### Train dataset"
   ]
  },
  {
   "cell_type": "code",
   "execution_count": 4,
   "id": "4d0b1392",
   "metadata": {
    "execution": {
     "iopub.execute_input": "2022-10-24T02:19:52.370294Z",
     "iopub.status.busy": "2022-10-24T02:19:52.369856Z",
     "iopub.status.idle": "2022-10-24T02:19:52.410470Z",
     "shell.execute_reply": "2022-10-24T02:19:52.409078Z"
    },
    "papermill": {
     "duration": 0.057951,
     "end_time": "2022-10-24T02:19:52.413221",
     "exception": false,
     "start_time": "2022-10-24T02:19:52.355270",
     "status": "completed"
    },
    "tags": []
   },
   "outputs": [
    {
     "data": {
      "text/html": [
       "<div>\n",
       "<style scoped>\n",
       "    .dataframe tbody tr th:only-of-type {\n",
       "        vertical-align: middle;\n",
       "    }\n",
       "\n",
       "    .dataframe tbody tr th {\n",
       "        vertical-align: top;\n",
       "    }\n",
       "\n",
       "    .dataframe thead th {\n",
       "        text-align: right;\n",
       "    }\n",
       "</style>\n",
       "<table border=\"1\" class=\"dataframe\">\n",
       "  <thead>\n",
       "    <tr style=\"text-align: right;\">\n",
       "      <th></th>\n",
       "      <th>PassengerId</th>\n",
       "      <th>Survived</th>\n",
       "      <th>Pclass</th>\n",
       "      <th>Name</th>\n",
       "      <th>Sex</th>\n",
       "      <th>Age</th>\n",
       "      <th>SibSp</th>\n",
       "      <th>Parch</th>\n",
       "      <th>Ticket</th>\n",
       "      <th>Fare</th>\n",
       "      <th>Cabin</th>\n",
       "      <th>Embarked</th>\n",
       "    </tr>\n",
       "  </thead>\n",
       "  <tbody>\n",
       "    <tr>\n",
       "      <th>0</th>\n",
       "      <td>1</td>\n",
       "      <td>0</td>\n",
       "      <td>3</td>\n",
       "      <td>Braund, Mr. Owen Harris</td>\n",
       "      <td>male</td>\n",
       "      <td>22.0</td>\n",
       "      <td>1</td>\n",
       "      <td>0</td>\n",
       "      <td>A/5 21171</td>\n",
       "      <td>7.2500</td>\n",
       "      <td>NaN</td>\n",
       "      <td>S</td>\n",
       "    </tr>\n",
       "    <tr>\n",
       "      <th>1</th>\n",
       "      <td>2</td>\n",
       "      <td>1</td>\n",
       "      <td>1</td>\n",
       "      <td>Cumings, Mrs. John Bradley (Florence Briggs Th...</td>\n",
       "      <td>female</td>\n",
       "      <td>38.0</td>\n",
       "      <td>1</td>\n",
       "      <td>0</td>\n",
       "      <td>PC 17599</td>\n",
       "      <td>71.2833</td>\n",
       "      <td>C85</td>\n",
       "      <td>C</td>\n",
       "    </tr>\n",
       "    <tr>\n",
       "      <th>2</th>\n",
       "      <td>3</td>\n",
       "      <td>1</td>\n",
       "      <td>3</td>\n",
       "      <td>Heikkinen, Miss. Laina</td>\n",
       "      <td>female</td>\n",
       "      <td>26.0</td>\n",
       "      <td>0</td>\n",
       "      <td>0</td>\n",
       "      <td>STON/O2. 3101282</td>\n",
       "      <td>7.9250</td>\n",
       "      <td>NaN</td>\n",
       "      <td>S</td>\n",
       "    </tr>\n",
       "    <tr>\n",
       "      <th>3</th>\n",
       "      <td>4</td>\n",
       "      <td>1</td>\n",
       "      <td>1</td>\n",
       "      <td>Futrelle, Mrs. Jacques Heath (Lily May Peel)</td>\n",
       "      <td>female</td>\n",
       "      <td>35.0</td>\n",
       "      <td>1</td>\n",
       "      <td>0</td>\n",
       "      <td>113803</td>\n",
       "      <td>53.1000</td>\n",
       "      <td>C123</td>\n",
       "      <td>S</td>\n",
       "    </tr>\n",
       "    <tr>\n",
       "      <th>4</th>\n",
       "      <td>5</td>\n",
       "      <td>0</td>\n",
       "      <td>3</td>\n",
       "      <td>Allen, Mr. William Henry</td>\n",
       "      <td>male</td>\n",
       "      <td>35.0</td>\n",
       "      <td>0</td>\n",
       "      <td>0</td>\n",
       "      <td>373450</td>\n",
       "      <td>8.0500</td>\n",
       "      <td>NaN</td>\n",
       "      <td>S</td>\n",
       "    </tr>\n",
       "  </tbody>\n",
       "</table>\n",
       "</div>"
      ],
      "text/plain": [
       "   PassengerId  Survived  Pclass  \\\n",
       "0            1         0       3   \n",
       "1            2         1       1   \n",
       "2            3         1       3   \n",
       "3            4         1       1   \n",
       "4            5         0       3   \n",
       "\n",
       "                                                Name     Sex   Age  SibSp  \\\n",
       "0                            Braund, Mr. Owen Harris    male  22.0      1   \n",
       "1  Cumings, Mrs. John Bradley (Florence Briggs Th...  female  38.0      1   \n",
       "2                             Heikkinen, Miss. Laina  female  26.0      0   \n",
       "3       Futrelle, Mrs. Jacques Heath (Lily May Peel)  female  35.0      1   \n",
       "4                           Allen, Mr. William Henry    male  35.0      0   \n",
       "\n",
       "   Parch            Ticket     Fare Cabin Embarked  \n",
       "0      0         A/5 21171   7.2500   NaN        S  \n",
       "1      0          PC 17599  71.2833   C85        C  \n",
       "2      0  STON/O2. 3101282   7.9250   NaN        S  \n",
       "3      0            113803  53.1000  C123        S  \n",
       "4      0            373450   8.0500   NaN        S  "
      ]
     },
     "execution_count": 4,
     "metadata": {},
     "output_type": "execute_result"
    }
   ],
   "source": [
    "train_data = pd.read_csv('data/train.csv')\n",
    "train_data.head()"
   ]
  },
  {
   "cell_type": "code",
   "execution_count": 5,
   "id": "5adb8a44",
   "metadata": {
    "execution": {
     "iopub.execute_input": "2022-10-24T02:19:52.444620Z",
     "iopub.status.busy": "2022-10-24T02:19:52.444159Z",
     "iopub.status.idle": "2022-10-24T02:19:52.461142Z",
     "shell.execute_reply": "2022-10-24T02:19:52.459500Z"
    },
    "papermill": {
     "duration": 0.036366,
     "end_time": "2022-10-24T02:19:52.464738",
     "exception": false,
     "start_time": "2022-10-24T02:19:52.428372",
     "status": "completed"
    },
    "tags": []
   },
   "outputs": [
    {
     "data": {
      "text/plain": [
       "0      0\n",
       "1      1\n",
       "2      1\n",
       "3      1\n",
       "4      0\n",
       "      ..\n",
       "886    0\n",
       "887    1\n",
       "888    0\n",
       "889    1\n",
       "890    0\n",
       "Name: Survived, Length: 891, dtype: int64"
      ]
     },
     "execution_count": 5,
     "metadata": {},
     "output_type": "execute_result"
    }
   ],
   "source": [
    "y = train_data.pop('Survived')\n",
    "y"
   ]
  },
  {
   "cell_type": "code",
   "execution_count": 6,
   "id": "6c93f04a",
   "metadata": {
    "execution": {
     "iopub.execute_input": "2022-10-24T02:19:52.501348Z",
     "iopub.status.busy": "2022-10-24T02:19:52.499508Z",
     "iopub.status.idle": "2022-10-24T02:19:52.747168Z",
     "shell.execute_reply": "2022-10-24T02:19:52.746307Z"
    },
    "papermill": {
     "duration": 0.268599,
     "end_time": "2022-10-24T02:19:52.749707",
     "exception": false,
     "start_time": "2022-10-24T02:19:52.481108",
     "status": "completed"
    },
    "tags": []
   },
   "outputs": [
    {
     "data": {
      "text/plain": [
       "<AxesSubplot:xlabel='Survived', ylabel='count'>"
      ]
     },
     "execution_count": 6,
     "metadata": {},
     "output_type": "execute_result"
    },
    {
     "data": {
      "image/png": "[encoded data removed]",
      "text/plain": [
       "<Figure size 432x288 with 1 Axes>"
      ]
     },
     "metadata": {},
     "output_type": "display_data"
    }
   ],
   "source": [
    "# target doesn't look unbalanced\n",
    "sns.countplot(x = y)"
   ]
  },
  {
   "cell_type": "markdown",
   "id": "2f2e92aa",
   "metadata": {
    "papermill": {
     "duration": 0.012808,
     "end_time": "2022-10-24T02:19:52.776821",
     "exception": false,
     "start_time": "2022-10-24T02:19:52.764013",
     "status": "completed"
    },
    "tags": []
   },
   "source": [
    "### Test dataset"
   ]
  },
  {
   "cell_type": "code",
   "execution_count": 7,
   "id": "98202992",
   "metadata": {
    "execution": {
     "iopub.execute_input": "2022-10-24T02:19:52.805354Z",
     "iopub.status.busy": "2022-10-24T02:19:52.804559Z",
     "iopub.status.idle": "2022-10-24T02:19:52.828563Z",
     "shell.execute_reply": "2022-10-24T02:19:52.827285Z"
    },
    "papermill": {
     "duration": 0.041181,
     "end_time": "2022-10-24T02:19:52.831124",
     "exception": false,
     "start_time": "2022-10-24T02:19:52.789943",
     "status": "completed"
    },
    "tags": []
   },
   "outputs": [
    {
     "data": {
      "text/html": [
       "<div>\n",
       "<style scoped>\n",
       "    .dataframe tbody tr th:only-of-type {\n",
       "        vertical-align: middle;\n",
       "    }\n",
       "\n",
       "    .dataframe tbody tr th {\n",
       "        vertical-align: top;\n",
       "    }\n",
       "\n",
       "    .dataframe thead th {\n",
       "        text-align: right;\n",
       "    }\n",
       "</style>\n",
       "<table border=\"1\" class=\"dataframe\">\n",
       "  <thead>\n",
       "    <tr style=\"text-align: right;\">\n",
       "      <th></th>\n",
       "      <th>PassengerId</th>\n",
       "      <th>Pclass</th>\n",
       "      <th>Name</th>\n",
       "      <th>Sex</th>\n",
       "      <th>Age</th>\n",
       "      <th>SibSp</th>\n",
       "      <th>Parch</th>\n",
       "      <th>Ticket</th>\n",
       "      <th>Fare</th>\n",
       "      <th>Cabin</th>\n",
       "      <th>Embarked</th>\n",
       "    </tr>\n",
       "  </thead>\n",
       "  <tbody>\n",
       "    <tr>\n",
       "      <th>0</th>\n",
       "      <td>892</td>\n",
       "      <td>3</td>\n",
       "      <td>Kelly, Mr. James</td>\n",
       "      <td>male</td>\n",
       "      <td>34.5</td>\n",
       "      <td>0</td>\n",
       "      <td>0</td>\n",
       "      <td>330911</td>\n",
       "      <td>7.8292</td>\n",
       "      <td>NaN</td>\n",
       "      <td>Q</td>\n",
       "    </tr>\n",
       "    <tr>\n",
       "      <th>1</th>\n",
       "      <td>893</td>\n",
       "      <td>3</td>\n",
       "      <td>Wilkes, Mrs. James (Ellen Needs)</td>\n",
       "      <td>female</td>\n",
       "      <td>47.0</td>\n",
       "      <td>1</td>\n",
       "      <td>0</td>\n",
       "      <td>363272</td>\n",
       "      <td>7.0000</td>\n",
       "      <td>NaN</td>\n",
       "      <td>S</td>\n",
       "    </tr>\n",
       "    <tr>\n",
       "      <th>2</th>\n",
       "      <td>894</td>\n",
       "      <td>2</td>\n",
       "      <td>Myles, Mr. Thomas Francis</td>\n",
       "      <td>male</td>\n",
       "      <td>62.0</td>\n",
       "      <td>0</td>\n",
       "      <td>0</td>\n",
       "      <td>240276</td>\n",
       "      <td>9.6875</td>\n",
       "      <td>NaN</td>\n",
       "      <td>Q</td>\n",
       "    </tr>\n",
       "    <tr>\n",
       "      <th>3</th>\n",
       "      <td>895</td>\n",
       "      <td>3</td>\n",
       "      <td>Wirz, Mr. Albert</td>\n",
       "      <td>male</td>\n",
       "      <td>27.0</td>\n",
       "      <td>0</td>\n",
       "      <td>0</td>\n",
       "      <td>315154</td>\n",
       "      <td>8.6625</td>\n",
       "      <td>NaN</td>\n",
       "      <td>S</td>\n",
       "    </tr>\n",
       "    <tr>\n",
       "      <th>4</th>\n",
       "      <td>896</td>\n",
       "      <td>3</td>\n",
       "      <td>Hirvonen, Mrs. Alexander (Helga E Lindqvist)</td>\n",
       "      <td>female</td>\n",
       "      <td>22.0</td>\n",
       "      <td>1</td>\n",
       "      <td>1</td>\n",
       "      <td>3101298</td>\n",
       "      <td>12.2875</td>\n",
       "      <td>NaN</td>\n",
       "      <td>S</td>\n",
       "    </tr>\n",
       "  </tbody>\n",
       "</table>\n",
       "</div>"
      ],
      "text/plain": [
       "   PassengerId  Pclass                                          Name     Sex  \\\n",
       "0          892       3                              Kelly, Mr. James    male   \n",
       "1          893       3              Wilkes, Mrs. James (Ellen Needs)  female   \n",
       "2          894       2                     Myles, Mr. Thomas Francis    male   \n",
       "3          895       3                              Wirz, Mr. Albert    male   \n",
       "4          896       3  Hirvonen, Mrs. Alexander (Helga E Lindqvist)  female   \n",
       "\n",
       "    Age  SibSp  Parch   Ticket     Fare Cabin Embarked  \n",
       "0  34.5      0      0   330911   7.8292   NaN        Q  \n",
       "1  47.0      1      0   363272   7.0000   NaN        S  \n",
       "2  62.0      0      0   240276   9.6875   NaN        Q  \n",
       "3  27.0      0      0   315154   8.6625   NaN        S  \n",
       "4  22.0      1      1  3101298  12.2875   NaN        S  "
      ]
     },
     "execution_count": 7,
     "metadata": {},
     "output_type": "execute_result"
    }
   ],
   "source": [
    "test_data = pd.read_csv('data/test.csv')\n",
    "test_data.head()"
   ]
  },
  {
   "cell_type": "markdown",
   "id": "b7b97604",
   "metadata": {
    "papermill": {
     "duration": 0.013235,
     "end_time": "2022-10-24T02:19:52.857956",
     "exception": false,
     "start_time": "2022-10-24T02:19:52.844721",
     "status": "completed"
    },
    "tags": []
   },
   "source": [
    "## Data preprocessing"
   ]
  },
  {
   "cell_type": "markdown",
   "id": "6b1d37ae",
   "metadata": {
    "papermill": {
     "duration": 0.0128,
     "end_time": "2022-10-24T02:19:52.884073",
     "exception": false,
     "start_time": "2022-10-24T02:19:52.871273",
     "status": "completed"
    },
    "tags": []
   },
   "source": [
    "Get additional info fron both datasets"
   ]
  },
  {
   "cell_type": "code",
   "execution_count": 8,
   "id": "843078ae",
   "metadata": {
    "execution": {
     "iopub.execute_input": "2022-10-24T02:19:52.916255Z",
     "iopub.status.busy": "2022-10-24T02:19:52.915460Z",
     "iopub.status.idle": "2022-10-24T02:19:52.935970Z",
     "shell.execute_reply": "2022-10-24T02:19:52.934720Z"
    },
    "papermill": {
     "duration": 0.039096,
     "end_time": "2022-10-24T02:19:52.938661",
     "exception": false,
     "start_time": "2022-10-24T02:19:52.899565",
     "status": "completed"
    },
    "tags": []
   },
   "outputs": [
    {
     "name": "stdout",
     "output_type": "stream",
     "text": [
      "<class 'pandas.core.frame.DataFrame'>\n",
      "RangeIndex: 891 entries, 0 to 890\n",
      "Data columns (total 11 columns):\n",
      " #   Column       Non-Null Count  Dtype  \n",
      "---  ------       --------------  -----  \n",
      " 0   PassengerId  891 non-null    int64  \n",
      " 1   Pclass       891 non-null    int64  \n",
      " 2   Name         891 non-null    object \n",
      " 3   Sex          891 non-null    object \n",
      " 4   Age          714 non-null    float64\n",
      " 5   SibSp        891 non-null    int64  \n",
      " 6   Parch        891 non-null    int64  \n",
      " 7   Ticket       891 non-null    object \n",
      " 8   Fare         891 non-null    float64\n",
      " 9   Cabin        204 non-null    object \n",
      " 10  Embarked     889 non-null    object \n",
      "dtypes: float64(2), int64(4), object(5)\n",
      "memory usage: 76.7+ KB\n"
     ]
    }
   ],
   "source": [
    "train_data.info()"
   ]
  },
  {
   "cell_type": "markdown",
   "id": "aad3b8fa",
   "metadata": {
    "papermill": {
     "duration": 0.018915,
     "end_time": "2022-10-24T02:19:52.976448",
     "exception": false,
     "start_time": "2022-10-24T02:19:52.957533",
     "status": "completed"
    },
    "tags": []
   },
   "source": [
    "Some of the features have null values. Lets check how many:"
   ]
  },
  {
   "cell_type": "markdown",
   "id": "53b3bec8",
   "metadata": {
    "papermill": {
     "duration": 0.015114,
     "end_time": "2022-10-24T02:19:53.009893",
     "exception": false,
     "start_time": "2022-10-24T02:19:52.994779",
     "status": "completed"
    },
    "tags": []
   },
   "source": [
    "'Age' and 'Cabin' features have a lot null-values so they should be filled. 'Embarked' feature has only 2 null values so we can just remove these two rows."
   ]
  },
  {
   "cell_type": "code",
   "execution_count": 9,
   "id": "a0f39880",
   "metadata": {
    "execution": {
     "iopub.execute_input": "2022-10-24T02:19:53.039047Z",
     "iopub.status.busy": "2022-10-24T02:19:53.038447Z",
     "iopub.status.idle": "2022-10-24T02:19:53.071670Z",
     "shell.execute_reply": "2022-10-24T02:19:53.070413Z"
    },
    "papermill": {
     "duration": 0.050636,
     "end_time": "2022-10-24T02:19:53.074320",
     "exception": false,
     "start_time": "2022-10-24T02:19:53.023684",
     "status": "completed"
    },
    "tags": []
   },
   "outputs": [
    {
     "data": {
      "text/html": [
       "<div>\n",
       "<style scoped>\n",
       "    .dataframe tbody tr th:only-of-type {\n",
       "        vertical-align: middle;\n",
       "    }\n",
       "\n",
       "    .dataframe tbody tr th {\n",
       "        vertical-align: top;\n",
       "    }\n",
       "\n",
       "    .dataframe thead th {\n",
       "        text-align: right;\n",
       "    }\n",
       "</style>\n",
       "<table border=\"1\" class=\"dataframe\">\n",
       "  <thead>\n",
       "    <tr style=\"text-align: right;\">\n",
       "      <th></th>\n",
       "      <th>PassengerId</th>\n",
       "      <th>Pclass</th>\n",
       "      <th>Age</th>\n",
       "      <th>SibSp</th>\n",
       "      <th>Parch</th>\n",
       "      <th>Fare</th>\n",
       "    </tr>\n",
       "  </thead>\n",
       "  <tbody>\n",
       "    <tr>\n",
       "      <th>count</th>\n",
       "      <td>891.000000</td>\n",
       "      <td>891.000000</td>\n",
       "      <td>714.000000</td>\n",
       "      <td>891.000000</td>\n",
       "      <td>891.000000</td>\n",
       "      <td>891.000000</td>\n",
       "    </tr>\n",
       "    <tr>\n",
       "      <th>mean</th>\n",
       "      <td>446.000000</td>\n",
       "      <td>2.308642</td>\n",
       "      <td>29.699118</td>\n",
       "      <td>0.523008</td>\n",
       "      <td>0.381594</td>\n",
       "      <td>32.204208</td>\n",
       "    </tr>\n",
       "    <tr>\n",
       "      <th>std</th>\n",
       "      <td>257.353842</td>\n",
       "      <td>0.836071</td>\n",
       "      <td>14.526497</td>\n",
       "      <td>1.102743</td>\n",
       "      <td>0.806057</td>\n",
       "      <td>49.693429</td>\n",
       "    </tr>\n",
       "    <tr>\n",
       "      <th>min</th>\n",
       "      <td>1.000000</td>\n",
       "      <td>1.000000</td>\n",
       "      <td>0.420000</td>\n",
       "      <td>0.000000</td>\n",
       "      <td>0.000000</td>\n",
       "      <td>0.000000</td>\n",
       "    </tr>\n",
       "    <tr>\n",
       "      <th>25%</th>\n",
       "      <td>223.500000</td>\n",
       "      <td>2.000000</td>\n",
       "      <td>20.125000</td>\n",
       "      <td>0.000000</td>\n",
       "      <td>0.000000</td>\n",
       "      <td>7.910400</td>\n",
       "    </tr>\n",
       "    <tr>\n",
       "      <th>50%</th>\n",
       "      <td>446.000000</td>\n",
       "      <td>3.000000</td>\n",
       "      <td>28.000000</td>\n",
       "      <td>0.000000</td>\n",
       "      <td>0.000000</td>\n",
       "      <td>14.454200</td>\n",
       "    </tr>\n",
       "    <tr>\n",
       "      <th>75%</th>\n",
       "      <td>668.500000</td>\n",
       "      <td>3.000000</td>\n",
       "      <td>38.000000</td>\n",
       "      <td>1.000000</td>\n",
       "      <td>0.000000</td>\n",
       "      <td>31.000000</td>\n",
       "    </tr>\n",
       "    <tr>\n",
       "      <th>max</th>\n",
       "      <td>891.000000</td>\n",
       "      <td>3.000000</td>\n",
       "      <td>80.000000</td>\n",
       "      <td>8.000000</td>\n",
       "      <td>6.000000</td>\n",
       "      <td>512.329200</td>\n",
       "    </tr>\n",
       "  </tbody>\n",
       "</table>\n",
       "</div>"
      ],
      "text/plain": [
       "       PassengerId      Pclass         Age       SibSp       Parch        Fare\n",
       "count   891.000000  891.000000  714.000000  891.000000  891.000000  891.000000\n",
       "mean    446.000000    2.308642   29.699118    0.523008    0.381594   32.204208\n",
       "std     257.353842    0.836071   14.526497    1.102743    0.806057   49.693429\n",
       "min       1.000000    1.000000    0.420000    0.000000    0.000000    0.000000\n",
       "25%     223.500000    2.000000   20.125000    0.000000    0.000000    7.910400\n",
       "50%     446.000000    3.000000   28.000000    0.000000    0.000000   14.454200\n",
       "75%     668.500000    3.000000   38.000000    1.000000    0.000000   31.000000\n",
       "max     891.000000    3.000000   80.000000    8.000000    6.000000  512.329200"
      ]
     },
     "execution_count": 9,
     "metadata": {},
     "output_type": "execute_result"
    }
   ],
   "source": [
    "train_data.describe()"
   ]
  },
  {
   "cell_type": "code",
   "execution_count": 10,
   "id": "8d47aa2f",
   "metadata": {
    "execution": {
     "iopub.execute_input": "2022-10-24T02:19:53.104700Z",
     "iopub.status.busy": "2022-10-24T02:19:53.104308Z",
     "iopub.status.idle": "2022-10-24T02:19:53.118270Z",
     "shell.execute_reply": "2022-10-24T02:19:53.117061Z"
    },
    "papermill": {
     "duration": 0.032769,
     "end_time": "2022-10-24T02:19:53.121131",
     "exception": false,
     "start_time": "2022-10-24T02:19:53.088362",
     "status": "completed"
    },
    "tags": []
   },
   "outputs": [
    {
     "name": "stdout",
     "output_type": "stream",
     "text": [
      "<class 'pandas.core.frame.DataFrame'>\n",
      "RangeIndex: 418 entries, 0 to 417\n",
      "Data columns (total 11 columns):\n",
      " #   Column       Non-Null Count  Dtype  \n",
      "---  ------       --------------  -----  \n",
      " 0   PassengerId  418 non-null    int64  \n",
      " 1   Pclass       418 non-null    int64  \n",
      " 2   Name         418 non-null    object \n",
      " 3   Sex          418 non-null    object \n",
      " 4   Age          332 non-null    float64\n",
      " 5   SibSp        418 non-null    int64  \n",
      " 6   Parch        418 non-null    int64  \n",
      " 7   Ticket       418 non-null    object \n",
      " 8   Fare         417 non-null    float64\n",
      " 9   Cabin        91 non-null     object \n",
      " 10  Embarked     418 non-null    object \n",
      "dtypes: float64(2), int64(4), object(5)\n",
      "memory usage: 36.0+ KB\n"
     ]
    }
   ],
   "source": [
    "test_data.info()"
   ]
  },
  {
   "cell_type": "code",
   "execution_count": 11,
   "id": "0dd3206a",
   "metadata": {
    "execution": {
     "iopub.execute_input": "2022-10-24T02:19:53.151241Z",
     "iopub.status.busy": "2022-10-24T02:19:53.150603Z",
     "iopub.status.idle": "2022-10-24T02:19:53.178759Z",
     "shell.execute_reply": "2022-10-24T02:19:53.177939Z"
    },
    "papermill": {
     "duration": 0.046032,
     "end_time": "2022-10-24T02:19:53.181208",
     "exception": false,
     "start_time": "2022-10-24T02:19:53.135176",
     "status": "completed"
    },
    "tags": []
   },
   "outputs": [
    {
     "data": {
      "text/html": [
       "<div>\n",
       "<style scoped>\n",
       "    .dataframe tbody tr th:only-of-type {\n",
       "        vertical-align: middle;\n",
       "    }\n",
       "\n",
       "    .dataframe tbody tr th {\n",
       "        vertical-align: top;\n",
       "    }\n",
       "\n",
       "    .dataframe thead th {\n",
       "        text-align: right;\n",
       "    }\n",
       "</style>\n",
       "<table border=\"1\" class=\"dataframe\">\n",
       "  <thead>\n",
       "    <tr style=\"text-align: right;\">\n",
       "      <th></th>\n",
       "      <th>PassengerId</th>\n",
       "      <th>Pclass</th>\n",
       "      <th>Age</th>\n",
       "      <th>SibSp</th>\n",
       "      <th>Parch</th>\n",
       "      <th>Fare</th>\n",
       "    </tr>\n",
       "  </thead>\n",
       "  <tbody>\n",
       "    <tr>\n",
       "      <th>count</th>\n",
       "      <td>418.000000</td>\n",
       "      <td>418.000000</td>\n",
       "      <td>332.000000</td>\n",
       "      <td>418.000000</td>\n",
       "      <td>418.000000</td>\n",
       "      <td>417.000000</td>\n",
       "    </tr>\n",
       "    <tr>\n",
       "      <th>mean</th>\n",
       "      <td>1100.500000</td>\n",
       "      <td>2.265550</td>\n",
       "      <td>30.272590</td>\n",
       "      <td>0.447368</td>\n",
       "      <td>0.392344</td>\n",
       "      <td>35.627188</td>\n",
       "    </tr>\n",
       "    <tr>\n",
       "      <th>std</th>\n",
       "      <td>120.810458</td>\n",
       "      <td>0.841838</td>\n",
       "      <td>14.181209</td>\n",
       "      <td>0.896760</td>\n",
       "      <td>0.981429</td>\n",
       "      <td>55.907576</td>\n",
       "    </tr>\n",
       "    <tr>\n",
       "      <th>min</th>\n",
       "      <td>892.000000</td>\n",
       "      <td>1.000000</td>\n",
       "      <td>0.170000</td>\n",
       "      <td>0.000000</td>\n",
       "      <td>0.000000</td>\n",
       "      <td>0.000000</td>\n",
       "    </tr>\n",
       "    <tr>\n",
       "      <th>25%</th>\n",
       "      <td>996.250000</td>\n",
       "      <td>1.000000</td>\n",
       "      <td>21.000000</td>\n",
       "      <td>0.000000</td>\n",
       "      <td>0.000000</td>\n",
       "      <td>7.895800</td>\n",
       "    </tr>\n",
       "    <tr>\n",
       "      <th>50%</th>\n",
       "      <td>1100.500000</td>\n",
       "      <td>3.000000</td>\n",
       "      <td>27.000000</td>\n",
       "      <td>0.000000</td>\n",
       "      <td>0.000000</td>\n",
       "      <td>14.454200</td>\n",
       "    </tr>\n",
       "    <tr>\n",
       "      <th>75%</th>\n",
       "      <td>1204.750000</td>\n",
       "      <td>3.000000</td>\n",
       "      <td>39.000000</td>\n",
       "      <td>1.000000</td>\n",
       "      <td>0.000000</td>\n",
       "      <td>31.500000</td>\n",
       "    </tr>\n",
       "    <tr>\n",
       "      <th>max</th>\n",
       "      <td>1309.000000</td>\n",
       "      <td>3.000000</td>\n",
       "      <td>76.000000</td>\n",
       "      <td>8.000000</td>\n",
       "      <td>9.000000</td>\n",
       "      <td>512.329200</td>\n",
       "    </tr>\n",
       "  </tbody>\n",
       "</table>\n",
       "</div>"
      ],
      "text/plain": [
       "       PassengerId      Pclass         Age       SibSp       Parch        Fare\n",
       "count   418.000000  418.000000  332.000000  418.000000  418.000000  417.000000\n",
       "mean   1100.500000    2.265550   30.272590    0.447368    0.392344   35.627188\n",
       "std     120.810458    0.841838   14.181209    0.896760    0.981429   55.907576\n",
       "min     892.000000    1.000000    0.170000    0.000000    0.000000    0.000000\n",
       "25%     996.250000    1.000000   21.000000    0.000000    0.000000    7.895800\n",
       "50%    1100.500000    3.000000   27.000000    0.000000    0.000000   14.454200\n",
       "75%    1204.750000    3.000000   39.000000    1.000000    0.000000   31.500000\n",
       "max    1309.000000    3.000000   76.000000    8.000000    9.000000  512.329200"
      ]
     },
     "execution_count": 11,
     "metadata": {},
     "output_type": "execute_result"
    }
   ],
   "source": [
    "test_data.describe()"
   ]
  },
  {
   "cell_type": "markdown",
   "id": "5a53c4af",
   "metadata": {
    "papermill": {
     "duration": 0.013585,
     "end_time": "2022-10-24T02:19:53.209168",
     "exception": false,
     "start_time": "2022-10-24T02:19:53.195583",
     "status": "completed"
    },
    "tags": []
   },
   "source": [
    "Union both train and test data to fill in null values"
   ]
  },
  {
   "cell_type": "code",
   "execution_count": 12,
   "id": "52b53449",
   "metadata": {
    "execution": {
     "iopub.execute_input": "2022-10-24T02:19:53.239808Z",
     "iopub.status.busy": "2022-10-24T02:19:53.239128Z",
     "iopub.status.idle": "2022-10-24T02:19:53.263982Z",
     "shell.execute_reply": "2022-10-24T02:19:53.262884Z"
    },
    "papermill": {
     "duration": 0.042821,
     "end_time": "2022-10-24T02:19:53.266426",
     "exception": false,
     "start_time": "2022-10-24T02:19:53.223605",
     "status": "completed"
    },
    "tags": []
   },
   "outputs": [
    {
     "data": {
      "text/html": [
       "<div>\n",
       "<style scoped>\n",
       "    .dataframe tbody tr th:only-of-type {\n",
       "        vertical-align: middle;\n",
       "    }\n",
       "\n",
       "    .dataframe tbody tr th {\n",
       "        vertical-align: top;\n",
       "    }\n",
       "\n",
       "    .dataframe thead th {\n",
       "        text-align: right;\n",
       "    }\n",
       "</style>\n",
       "<table border=\"1\" class=\"dataframe\">\n",
       "  <thead>\n",
       "    <tr style=\"text-align: right;\">\n",
       "      <th></th>\n",
       "      <th>PassengerId</th>\n",
       "      <th>Pclass</th>\n",
       "      <th>Name</th>\n",
       "      <th>Sex</th>\n",
       "      <th>Age</th>\n",
       "      <th>SibSp</th>\n",
       "      <th>Parch</th>\n",
       "      <th>Ticket</th>\n",
       "      <th>Fare</th>\n",
       "      <th>Cabin</th>\n",
       "      <th>Embarked</th>\n",
       "      <th>train</th>\n",
       "    </tr>\n",
       "  </thead>\n",
       "  <tbody>\n",
       "    <tr>\n",
       "      <th>0</th>\n",
       "      <td>1</td>\n",
       "      <td>3</td>\n",
       "      <td>Braund, Mr. Owen Harris</td>\n",
       "      <td>male</td>\n",
       "      <td>22.0</td>\n",
       "      <td>1</td>\n",
       "      <td>0</td>\n",
       "      <td>A/5 21171</td>\n",
       "      <td>7.2500</td>\n",
       "      <td>NaN</td>\n",
       "      <td>S</td>\n",
       "      <td>1</td>\n",
       "    </tr>\n",
       "    <tr>\n",
       "      <th>1</th>\n",
       "      <td>2</td>\n",
       "      <td>1</td>\n",
       "      <td>Cumings, Mrs. John Bradley (Florence Briggs Th...</td>\n",
       "      <td>female</td>\n",
       "      <td>38.0</td>\n",
       "      <td>1</td>\n",
       "      <td>0</td>\n",
       "      <td>PC 17599</td>\n",
       "      <td>71.2833</td>\n",
       "      <td>C85</td>\n",
       "      <td>C</td>\n",
       "      <td>1</td>\n",
       "    </tr>\n",
       "    <tr>\n",
       "      <th>2</th>\n",
       "      <td>3</td>\n",
       "      <td>3</td>\n",
       "      <td>Heikkinen, Miss. Laina</td>\n",
       "      <td>female</td>\n",
       "      <td>26.0</td>\n",
       "      <td>0</td>\n",
       "      <td>0</td>\n",
       "      <td>STON/O2. 3101282</td>\n",
       "      <td>7.9250</td>\n",
       "      <td>NaN</td>\n",
       "      <td>S</td>\n",
       "      <td>1</td>\n",
       "    </tr>\n",
       "    <tr>\n",
       "      <th>3</th>\n",
       "      <td>4</td>\n",
       "      <td>1</td>\n",
       "      <td>Futrelle, Mrs. Jacques Heath (Lily May Peel)</td>\n",
       "      <td>female</td>\n",
       "      <td>35.0</td>\n",
       "      <td>1</td>\n",
       "      <td>0</td>\n",
       "      <td>113803</td>\n",
       "      <td>53.1000</td>\n",
       "      <td>C123</td>\n",
       "      <td>S</td>\n",
       "      <td>1</td>\n",
       "    </tr>\n",
       "    <tr>\n",
       "      <th>4</th>\n",
       "      <td>5</td>\n",
       "      <td>3</td>\n",
       "      <td>Allen, Mr. William Henry</td>\n",
       "      <td>male</td>\n",
       "      <td>35.0</td>\n",
       "      <td>0</td>\n",
       "      <td>0</td>\n",
       "      <td>373450</td>\n",
       "      <td>8.0500</td>\n",
       "      <td>NaN</td>\n",
       "      <td>S</td>\n",
       "      <td>1</td>\n",
       "    </tr>\n",
       "    <tr>\n",
       "      <th>...</th>\n",
       "      <td>...</td>\n",
       "      <td>...</td>\n",
       "      <td>...</td>\n",
       "      <td>...</td>\n",
       "      <td>...</td>\n",
       "      <td>...</td>\n",
       "      <td>...</td>\n",
       "      <td>...</td>\n",
       "      <td>...</td>\n",
       "      <td>...</td>\n",
       "      <td>...</td>\n",
       "      <td>...</td>\n",
       "    </tr>\n",
       "    <tr>\n",
       "      <th>1304</th>\n",
       "      <td>1305</td>\n",
       "      <td>3</td>\n",
       "      <td>Spector, Mr. Woolf</td>\n",
       "      <td>male</td>\n",
       "      <td>NaN</td>\n",
       "      <td>0</td>\n",
       "      <td>0</td>\n",
       "      <td>A.5. 3236</td>\n",
       "      <td>8.0500</td>\n",
       "      <td>NaN</td>\n",
       "      <td>S</td>\n",
       "      <td>0</td>\n",
       "    </tr>\n",
       "    <tr>\n",
       "      <th>1305</th>\n",
       "      <td>1306</td>\n",
       "      <td>1</td>\n",
       "      <td>Oliva y Ocana, Dona. Fermina</td>\n",
       "      <td>female</td>\n",
       "      <td>39.0</td>\n",
       "      <td>0</td>\n",
       "      <td>0</td>\n",
       "      <td>PC 17758</td>\n",
       "      <td>108.9000</td>\n",
       "      <td>C105</td>\n",
       "      <td>C</td>\n",
       "      <td>0</td>\n",
       "    </tr>\n",
       "    <tr>\n",
       "      <th>1306</th>\n",
       "      <td>1307</td>\n",
       "      <td>3</td>\n",
       "      <td>Saether, Mr. Simon Sivertsen</td>\n",
       "      <td>male</td>\n",
       "      <td>38.5</td>\n",
       "      <td>0</td>\n",
       "      <td>0</td>\n",
       "      <td>SOTON/O.Q. 3101262</td>\n",
       "      <td>7.2500</td>\n",
       "      <td>NaN</td>\n",
       "      <td>S</td>\n",
       "      <td>0</td>\n",
       "    </tr>\n",
       "    <tr>\n",
       "      <th>1307</th>\n",
       "      <td>1308</td>\n",
       "      <td>3</td>\n",
       "      <td>Ware, Mr. Frederick</td>\n",
       "      <td>male</td>\n",
       "      <td>NaN</td>\n",
       "      <td>0</td>\n",
       "      <td>0</td>\n",
       "      <td>359309</td>\n",
       "      <td>8.0500</td>\n",
       "      <td>NaN</td>\n",
       "      <td>S</td>\n",
       "      <td>0</td>\n",
       "    </tr>\n",
       "    <tr>\n",
       "      <th>1308</th>\n",
       "      <td>1309</td>\n",
       "      <td>3</td>\n",
       "      <td>Peter, Master. Michael J</td>\n",
       "      <td>male</td>\n",
       "      <td>NaN</td>\n",
       "      <td>1</td>\n",
       "      <td>1</td>\n",
       "      <td>2668</td>\n",
       "      <td>22.3583</td>\n",
       "      <td>NaN</td>\n",
       "      <td>C</td>\n",
       "      <td>0</td>\n",
       "    </tr>\n",
       "  </tbody>\n",
       "</table>\n",
       "<p>1309 rows × 12 columns</p>\n",
       "</div>"
      ],
      "text/plain": [
       "      PassengerId  Pclass                                               Name  \\\n",
       "0               1       3                            Braund, Mr. Owen Harris   \n",
       "1               2       1  Cumings, Mrs. John Bradley (Florence Briggs Th...   \n",
       "2               3       3                             Heikkinen, Miss. Laina   \n",
       "3               4       1       Futrelle, Mrs. Jacques Heath (Lily May Peel)   \n",
       "4               5       3                           Allen, Mr. William Henry   \n",
       "...           ...     ...                                                ...   \n",
       "1304         1305       3                                 Spector, Mr. Woolf   \n",
       "1305         1306       1                       Oliva y Ocana, Dona. Fermina   \n",
       "1306         1307       3                       Saether, Mr. Simon Sivertsen   \n",
       "1307         1308       3                                Ware, Mr. Frederick   \n",
       "1308         1309       3                           Peter, Master. Michael J   \n",
       "\n",
       "         Sex   Age  SibSp  Parch              Ticket      Fare Cabin Embarked  \\\n",
       "0       male  22.0      1      0           A/5 21171    7.2500   NaN        S   \n",
       "1     female  38.0      1      0            PC 17599   71.2833   C85        C   \n",
       "2     female  26.0      0      0    STON/O2. 3101282    7.9250   NaN        S   \n",
       "3     female  35.0      1      0              113803   53.1000  C123        S   \n",
       "4       male  35.0      0      0              373450    8.0500   NaN        S   \n",
       "...      ...   ...    ...    ...                 ...       ...   ...      ...   \n",
       "1304    male   NaN      0      0           A.5. 3236    8.0500   NaN        S   \n",
       "1305  female  39.0      0      0            PC 17758  108.9000  C105        C   \n",
       "1306    male  38.5      0      0  SOTON/O.Q. 3101262    7.2500   NaN        S   \n",
       "1307    male   NaN      0      0              359309    8.0500   NaN        S   \n",
       "1308    male   NaN      1      1                2668   22.3583   NaN        C   \n",
       "\n",
       "      train  \n",
       "0         1  \n",
       "1         1  \n",
       "2         1  \n",
       "3         1  \n",
       "4         1  \n",
       "...     ...  \n",
       "1304      0  \n",
       "1305      0  \n",
       "1306      0  \n",
       "1307      0  \n",
       "1308      0  \n",
       "\n",
       "[1309 rows x 12 columns]"
      ]
     },
     "execution_count": 12,
     "metadata": {},
     "output_type": "execute_result"
    }
   ],
   "source": [
    "train_data['train'] = 1\n",
    "test_data['train'] = 0\n",
    "common_data = pd.concat([train_data, test_data], ignore_index = True)\n",
    "common_data"
   ]
  },
  {
   "cell_type": "code",
   "execution_count": 13,
   "id": "7d01ff5e",
   "metadata": {
    "execution": {
     "iopub.execute_input": "2022-10-24T02:19:53.297482Z",
     "iopub.status.busy": "2022-10-24T02:19:53.297073Z",
     "iopub.status.idle": "2022-10-24T02:19:53.671192Z",
     "shell.execute_reply": "2022-10-24T02:19:53.669816Z"
    },
    "papermill": {
     "duration": 0.392924,
     "end_time": "2022-10-24T02:19:53.673914",
     "exception": false,
     "start_time": "2022-10-24T02:19:53.280990",
     "status": "completed"
    },
    "tags": []
   },
   "outputs": [
    {
     "data": {
      "text/plain": [
       "<AxesSubplot:>"
      ]
     },
     "execution_count": 13,
     "metadata": {},
     "output_type": "execute_result"
    },
    {
     "data": {
      "image/png": "[encoded data removed]",
      "text/plain": [
       "<Figure size 432x288 with 2 Axes>"
      ]
     },
     "metadata": {},
     "output_type": "display_data"
    }
   ],
   "source": [
    "sns.heatmap(common_data.corr())"
   ]
  },
  {
   "cell_type": "markdown",
   "id": "35e801c9",
   "metadata": {
    "papermill": {
     "duration": 0.014814,
     "end_time": "2022-10-24T02:19:53.704401",
     "exception": false,
     "start_time": "2022-10-24T02:19:53.689587",
     "status": "completed"
    },
    "tags": []
   },
   "source": [
    "Remove 'PassangerId', 'Ticket' and 'Cabin' features"
   ]
  },
  {
   "cell_type": "code",
   "execution_count": 14,
   "id": "3aebfbee",
   "metadata": {
    "execution": {
     "iopub.execute_input": "2022-10-24T02:19:53.735719Z",
     "iopub.status.busy": "2022-10-24T02:19:53.735346Z",
     "iopub.status.idle": "2022-10-24T02:19:53.754127Z",
     "shell.execute_reply": "2022-10-24T02:19:53.753057Z"
    },
    "papermill": {
     "duration": 0.037399,
     "end_time": "2022-10-24T02:19:53.756675",
     "exception": false,
     "start_time": "2022-10-24T02:19:53.719276",
     "status": "completed"
    },
    "tags": []
   },
   "outputs": [
    {
     "data": {
      "text/html": [
       "<div>\n",
       "<style scoped>\n",
       "    .dataframe tbody tr th:only-of-type {\n",
       "        vertical-align: middle;\n",
       "    }\n",
       "\n",
       "    .dataframe tbody tr th {\n",
       "        vertical-align: top;\n",
       "    }\n",
       "\n",
       "    .dataframe thead th {\n",
       "        text-align: right;\n",
       "    }\n",
       "</style>\n",
       "<table border=\"1\" class=\"dataframe\">\n",
       "  <thead>\n",
       "    <tr style=\"text-align: right;\">\n",
       "      <th></th>\n",
       "      <th>Pclass</th>\n",
       "      <th>Name</th>\n",
       "      <th>Sex</th>\n",
       "      <th>Age</th>\n",
       "      <th>SibSp</th>\n",
       "      <th>Parch</th>\n",
       "      <th>Fare</th>\n",
       "      <th>Embarked</th>\n",
       "      <th>train</th>\n",
       "    </tr>\n",
       "  </thead>\n",
       "  <tbody>\n",
       "    <tr>\n",
       "      <th>0</th>\n",
       "      <td>3</td>\n",
       "      <td>Braund, Mr. Owen Harris</td>\n",
       "      <td>male</td>\n",
       "      <td>22.0</td>\n",
       "      <td>1</td>\n",
       "      <td>0</td>\n",
       "      <td>7.2500</td>\n",
       "      <td>S</td>\n",
       "      <td>1</td>\n",
       "    </tr>\n",
       "    <tr>\n",
       "      <th>1</th>\n",
       "      <td>1</td>\n",
       "      <td>Cumings, Mrs. John Bradley (Florence Briggs Th...</td>\n",
       "      <td>female</td>\n",
       "      <td>38.0</td>\n",
       "      <td>1</td>\n",
       "      <td>0</td>\n",
       "      <td>71.2833</td>\n",
       "      <td>C</td>\n",
       "      <td>1</td>\n",
       "    </tr>\n",
       "    <tr>\n",
       "      <th>2</th>\n",
       "      <td>3</td>\n",
       "      <td>Heikkinen, Miss. Laina</td>\n",
       "      <td>female</td>\n",
       "      <td>26.0</td>\n",
       "      <td>0</td>\n",
       "      <td>0</td>\n",
       "      <td>7.9250</td>\n",
       "      <td>S</td>\n",
       "      <td>1</td>\n",
       "    </tr>\n",
       "    <tr>\n",
       "      <th>3</th>\n",
       "      <td>1</td>\n",
       "      <td>Futrelle, Mrs. Jacques Heath (Lily May Peel)</td>\n",
       "      <td>female</td>\n",
       "      <td>35.0</td>\n",
       "      <td>1</td>\n",
       "      <td>0</td>\n",
       "      <td>53.1000</td>\n",
       "      <td>S</td>\n",
       "      <td>1</td>\n",
       "    </tr>\n",
       "    <tr>\n",
       "      <th>4</th>\n",
       "      <td>3</td>\n",
       "      <td>Allen, Mr. William Henry</td>\n",
       "      <td>male</td>\n",
       "      <td>35.0</td>\n",
       "      <td>0</td>\n",
       "      <td>0</td>\n",
       "      <td>8.0500</td>\n",
       "      <td>S</td>\n",
       "      <td>1</td>\n",
       "    </tr>\n",
       "  </tbody>\n",
       "</table>\n",
       "</div>"
      ],
      "text/plain": [
       "   Pclass                                               Name     Sex   Age  \\\n",
       "0       3                            Braund, Mr. Owen Harris    male  22.0   \n",
       "1       1  Cumings, Mrs. John Bradley (Florence Briggs Th...  female  38.0   \n",
       "2       3                             Heikkinen, Miss. Laina  female  26.0   \n",
       "3       1       Futrelle, Mrs. Jacques Heath (Lily May Peel)  female  35.0   \n",
       "4       3                           Allen, Mr. William Henry    male  35.0   \n",
       "\n",
       "   SibSp  Parch     Fare Embarked  train  \n",
       "0      1      0   7.2500        S      1  \n",
       "1      1      0  71.2833        C      1  \n",
       "2      0      0   7.9250        S      1  \n",
       "3      1      0  53.1000        S      1  \n",
       "4      0      0   8.0500        S      1  "
      ]
     },
     "execution_count": 14,
     "metadata": {},
     "output_type": "execute_result"
    }
   ],
   "source": [
    "common_data.drop(['PassengerId', 'Ticket', 'Cabin'], axis = 1, inplace = True)\n",
    "common_data.head()"
   ]
  },
  {
   "cell_type": "markdown",
   "id": "595e3c2f",
   "metadata": {
    "papermill": {
     "duration": 0.015521,
     "end_time": "2022-10-24T02:19:53.788179",
     "exception": false,
     "start_time": "2022-10-24T02:19:53.772658",
     "status": "completed"
    },
    "tags": []
   },
   "source": [
    "Check histograms and boxplots"
   ]
  },
  {
   "cell_type": "code",
   "execution_count": 15,
   "id": "0c26a565",
   "metadata": {
    "execution": {
     "iopub.execute_input": "2022-10-24T02:19:53.821813Z",
     "iopub.status.busy": "2022-10-24T02:19:53.821414Z",
     "iopub.status.idle": "2022-10-24T02:19:53.828201Z",
     "shell.execute_reply": "2022-10-24T02:19:53.826394Z"
    },
    "papermill": {
     "duration": 0.026357,
     "end_time": "2022-10-24T02:19:53.830814",
     "exception": false,
     "start_time": "2022-10-24T02:19:53.804457",
     "status": "completed"
    },
    "tags": []
   },
   "outputs": [],
   "source": [
    "# categorical features\n",
    "categorical_features = ['SibSp', 'Sex', 'Embarked', 'Parch', 'Pclass']\n",
    "\n",
    "# numeric features\n",
    "numeric_features = ['Age', 'Fare']"
   ]
  },
  {
   "cell_type": "code",
   "execution_count": 16,
   "id": "36374357",
   "metadata": {
    "execution": {
     "iopub.execute_input": "2022-10-24T02:19:53.865072Z",
     "iopub.status.busy": "2022-10-24T02:19:53.864655Z",
     "iopub.status.idle": "2022-10-24T02:19:54.442717Z",
     "shell.execute_reply": "2022-10-24T02:19:54.441131Z"
    },
    "papermill": {
     "duration": 0.5987,
     "end_time": "2022-10-24T02:19:54.445670",
     "exception": false,
     "start_time": "2022-10-24T02:19:53.846970",
     "status": "completed"
    },
    "tags": []
   },
   "outputs": [
    {
     "data": {
      "image/png": "[encoded data removed]",
      "text/plain": [
       "<Figure size 432x288 with 1 Axes>"
      ]
     },
     "metadata": {},
     "output_type": "display_data"
    },
    {
     "data": {
      "image/png": "[encoded data removed]",
      "text/plain": [
       "<Figure size 432x288 with 1 Axes>"
      ]
     },
     "metadata": {},
     "output_type": "display_data"
    }
   ],
   "source": [
    "# display histograms for numeric features\n",
    "for i in numeric_features:\n",
    "    plt.hist(common_data[i], bins = 20)\n",
    "    plt.title(i)\n",
    "    plt.show()"
   ]
  },
  {
   "cell_type": "code",
   "execution_count": 17,
   "id": "60584987",
   "metadata": {
    "execution": {
     "iopub.execute_input": "2022-10-24T02:19:54.491768Z",
     "iopub.status.busy": "2022-10-24T02:19:54.490670Z",
     "iopub.status.idle": "2022-10-24T02:19:55.054283Z",
     "shell.execute_reply": "2022-10-24T02:19:55.052885Z"
    },
    "papermill": {
     "duration": 0.594021,
     "end_time": "2022-10-24T02:19:55.056515",
     "exception": false,
     "start_time": "2022-10-24T02:19:54.462494",
     "status": "completed"
    },
    "tags": []
   },
   "outputs": [
    {
     "data": {
      "image/png": "[encoded data removed]",
      "text/plain": [
       "<Figure size 432x288 with 1 Axes>"
      ]
     },
     "metadata": {},
     "output_type": "display_data"
    },
    {
     "data": {
      "image/png": "[encoded data removed]",
      "text/plain": [
       "<Figure size 432x288 with 1 Axes>"
      ]
     },
     "metadata": {},
     "output_type": "display_data"
    }
   ],
   "source": [
    "for i in numeric_features:\n",
    "    common_data[i + '_log'] = common_data[i].apply(np.log1p)\n",
    "    plt.hist(common_data[i + '_log'], bins = 20)\n",
    "    plt.title(i)\n",
    "    plt.show()"
   ]
  },
  {
   "cell_type": "code",
   "execution_count": 18,
   "id": "52dda29d",
   "metadata": {
    "execution": {
     "iopub.execute_input": "2022-10-24T02:19:55.090417Z",
     "iopub.status.busy": "2022-10-24T02:19:55.089807Z",
     "iopub.status.idle": "2022-10-24T02:19:55.578596Z",
     "shell.execute_reply": "2022-10-24T02:19:55.577537Z"
    },
    "papermill": {
     "duration": 0.508739,
     "end_time": "2022-10-24T02:19:55.581022",
     "exception": false,
     "start_time": "2022-10-24T02:19:55.072283",
     "status": "completed"
    },
    "tags": []
   },
   "outputs": [
    {
     "data": {
      "text/plain": [
       "<AxesSubplot:xlabel='Age', ylabel='Fare'>"
      ]
     },
     "execution_count": 18,
     "metadata": {},
     "output_type": "execute_result"
    },
    {
     "data": {
      "image/png": "[encoded data removed]",
      "text/plain": [
       "<Figure size 1080x576 with 1 Axes>"
      ]
     },
     "metadata": {},
     "output_type": "display_data"
    }
   ],
   "source": [
    "plt.figure(figsize=(15,8))\n",
    "sns.scatterplot(data = train_data, x = 'Age', y = 'Fare', hue = y)"
   ]
  },
  {
   "cell_type": "code",
   "execution_count": 19,
   "id": "726ebc77",
   "metadata": {
    "execution": {
     "iopub.execute_input": "2022-10-24T02:19:55.620762Z",
     "iopub.status.busy": "2022-10-24T02:19:55.619640Z",
     "iopub.status.idle": "2022-10-24T02:19:55.642165Z",
     "shell.execute_reply": "2022-10-24T02:19:55.641318Z"
    },
    "papermill": {
     "duration": 0.045597,
     "end_time": "2022-10-24T02:19:55.646447",
     "exception": false,
     "start_time": "2022-10-24T02:19:55.600850",
     "status": "completed"
    },
    "tags": []
   },
   "outputs": [
    {
     "data": {
      "text/html": [
       "<div>\n",
       "<style scoped>\n",
       "    .dataframe tbody tr th:only-of-type {\n",
       "        vertical-align: middle;\n",
       "    }\n",
       "\n",
       "    .dataframe tbody tr th {\n",
       "        vertical-align: top;\n",
       "    }\n",
       "\n",
       "    .dataframe thead th {\n",
       "        text-align: right;\n",
       "    }\n",
       "</style>\n",
       "<table border=\"1\" class=\"dataframe\">\n",
       "  <thead>\n",
       "    <tr style=\"text-align: right;\">\n",
       "      <th></th>\n",
       "      <th>Age</th>\n",
       "      <th>Fare</th>\n",
       "    </tr>\n",
       "    <tr>\n",
       "      <th>Survived</th>\n",
       "      <th></th>\n",
       "      <th></th>\n",
       "    </tr>\n",
       "  </thead>\n",
       "  <tbody>\n",
       "    <tr>\n",
       "      <th>0</th>\n",
       "      <td>30.626179</td>\n",
       "      <td>22.117887</td>\n",
       "    </tr>\n",
       "    <tr>\n",
       "      <th>1</th>\n",
       "      <td>28.343690</td>\n",
       "      <td>48.395408</td>\n",
       "    </tr>\n",
       "  </tbody>\n",
       "</table>\n",
       "</div>"
      ],
      "text/plain": [
       "                Age       Fare\n",
       "Survived                      \n",
       "0         30.626179  22.117887\n",
       "1         28.343690  48.395408"
      ]
     },
     "execution_count": 19,
     "metadata": {},
     "output_type": "execute_result"
    }
   ],
   "source": [
    "# compare survival rate across numeric features\n",
    "pd.pivot_table(train_data, index = y, values = numeric_features)"
   ]
  },
  {
   "cell_type": "code",
   "execution_count": 20,
   "id": "46d192b9",
   "metadata": {
    "execution": {
     "iopub.execute_input": "2022-10-24T02:19:55.688784Z",
     "iopub.status.busy": "2022-10-24T02:19:55.688242Z",
     "iopub.status.idle": "2022-10-24T02:19:56.670242Z",
     "shell.execute_reply": "2022-10-24T02:19:56.669319Z"
    },
    "papermill": {
     "duration": 1.005758,
     "end_time": "2022-10-24T02:19:56.672494",
     "exception": false,
     "start_time": "2022-10-24T02:19:55.666736",
     "status": "completed"
    },
    "tags": []
   },
   "outputs": [
    {
     "data": {
      "image/png": "[encoded data removed]",
      "text/plain": [
       "<Figure size 432x288 with 1 Axes>"
      ]
     },
     "metadata": {},
     "output_type": "display_data"
    },
    {
     "data": {
      "image/png": "[encoded data removed]",
      "text/plain": [
       "<Figure size 432x288 with 1 Axes>"
      ]
     },
     "metadata": {},
     "output_type": "display_data"
    },
    {
     "data": {
      "image/png": "[encoded data removed]",
      "text/plain": [
       "<Figure size 432x288 with 1 Axes>"
      ]
     },
     "metadata": {},
     "output_type": "display_data"
    },
    {
     "data": {
      "image/png": "[encoded data removed]",
      "text/plain": [
       "<Figure size 432x288 with 1 Axes>"
      ]
     },
     "metadata": {},
     "output_type": "display_data"
    },
    {
     "data": {
      "image/png": "[encoded data removed]",
      "text/plain": [
       "<Figure size 432x288 with 1 Axes>"
      ]
     },
     "metadata": {},
     "output_type": "display_data"
    }
   ],
   "source": [
    "# display barplots for categorical features\n",
    "for i in categorical_features:\n",
    "    sns.countplot(x = common_data[i])\n",
    "    plt.show()"
   ]
  },
  {
   "cell_type": "code",
   "execution_count": 21,
   "id": "097e8d16",
   "metadata": {
    "execution": {
     "iopub.execute_input": "2022-10-24T02:19:56.712358Z",
     "iopub.status.busy": "2022-10-24T02:19:56.711695Z",
     "iopub.status.idle": "2022-10-24T02:19:56.724338Z",
     "shell.execute_reply": "2022-10-24T02:19:56.723420Z"
    },
    "papermill": {
     "duration": 0.035491,
     "end_time": "2022-10-24T02:19:56.726600",
     "exception": false,
     "start_time": "2022-10-24T02:19:56.691109",
     "status": "completed"
    },
    "tags": []
   },
   "outputs": [
    {
     "data": {
      "text/plain": [
       "Mr              757\n",
       "Miss            260\n",
       "Mrs             197\n",
       "Master           61\n",
       "Rev               8\n",
       "Dr                8\n",
       "Col               4\n",
       "Ms                2\n",
       "Mlle              2\n",
       "Major             2\n",
       "Mme               1\n",
       "Don               1\n",
       "the Countess      1\n",
       "Lady              1\n",
       "Sir               1\n",
       "Dona              1\n",
       "Capt              1\n",
       "Jonkheer          1\n",
       "Name: Name_cat, dtype: int64"
      ]
     },
     "execution_count": 21,
     "metadata": {},
     "output_type": "execute_result"
    }
   ],
   "source": [
    "# convert 'Name' feature into categorical one\n",
    "common_data['Name_cat'] = common_data.Name.apply(lambda x: x.split(',')[1].split('.')[0].strip())\n",
    "common_data['Name_cat'].value_counts()"
   ]
  },
  {
   "cell_type": "code",
   "execution_count": 22,
   "id": "8c8be75d",
   "metadata": {
    "execution": {
     "iopub.execute_input": "2022-10-24T02:19:56.766409Z",
     "iopub.status.busy": "2022-10-24T02:19:56.765935Z",
     "iopub.status.idle": "2022-10-24T02:19:56.779485Z",
     "shell.execute_reply": "2022-10-24T02:19:56.778316Z"
    },
    "papermill": {
     "duration": 0.036816,
     "end_time": "2022-10-24T02:19:56.781875",
     "exception": false,
     "start_time": "2022-10-24T02:19:56.745059",
     "status": "completed"
    },
    "tags": []
   },
   "outputs": [
    {
     "data": {
      "text/plain": [
       "Mr       757\n",
       "Miss     260\n",
       "Mrs      197\n",
       "Other     95\n",
       "Name: Name_cat, dtype: int64"
      ]
     },
     "execution_count": 22,
     "metadata": {},
     "output_type": "execute_result"
    }
   ],
   "source": [
    "# there are three big groups: Mr, Miss, Mrs. Combine others into 'Other' category\n",
    "common_data['Name_cat'] = common_data['Name_cat'].apply(lambda x : x if x in ['Mr', 'Miss', 'Mrs'] else 'Other')\n",
    "common_data['Name_cat'].value_counts()"
   ]
  },
  {
   "cell_type": "code",
   "execution_count": 23,
   "id": "651b2135",
   "metadata": {
    "execution": {
     "iopub.execute_input": "2022-10-24T02:19:56.824146Z",
     "iopub.status.busy": "2022-10-24T02:19:56.823347Z",
     "iopub.status.idle": "2022-10-24T02:19:56.844809Z",
     "shell.execute_reply": "2022-10-24T02:19:56.843518Z"
    },
    "papermill": {
     "duration": 0.045476,
     "end_time": "2022-10-24T02:19:56.847244",
     "exception": false,
     "start_time": "2022-10-24T02:19:56.801768",
     "status": "completed"
    },
    "tags": []
   },
   "outputs": [
    {
     "data": {
      "text/html": [
       "<div>\n",
       "<style scoped>\n",
       "    .dataframe tbody tr th:only-of-type {\n",
       "        vertical-align: middle;\n",
       "    }\n",
       "\n",
       "    .dataframe tbody tr th {\n",
       "        vertical-align: top;\n",
       "    }\n",
       "\n",
       "    .dataframe thead th {\n",
       "        text-align: right;\n",
       "    }\n",
       "</style>\n",
       "<table border=\"1\" class=\"dataframe\">\n",
       "  <thead>\n",
       "    <tr style=\"text-align: right;\">\n",
       "      <th></th>\n",
       "      <th>Pclass</th>\n",
       "      <th>Sex</th>\n",
       "      <th>Age</th>\n",
       "      <th>SibSp</th>\n",
       "      <th>Parch</th>\n",
       "      <th>Fare</th>\n",
       "      <th>Embarked</th>\n",
       "      <th>train</th>\n",
       "      <th>Age_log</th>\n",
       "      <th>Fare_log</th>\n",
       "      <th>Name_cat</th>\n",
       "    </tr>\n",
       "  </thead>\n",
       "  <tbody>\n",
       "    <tr>\n",
       "      <th>0</th>\n",
       "      <td>3</td>\n",
       "      <td>male</td>\n",
       "      <td>22.0</td>\n",
       "      <td>1</td>\n",
       "      <td>0</td>\n",
       "      <td>7.2500</td>\n",
       "      <td>S</td>\n",
       "      <td>1</td>\n",
       "      <td>3.135494</td>\n",
       "      <td>2.110213</td>\n",
       "      <td>Mr</td>\n",
       "    </tr>\n",
       "    <tr>\n",
       "      <th>1</th>\n",
       "      <td>1</td>\n",
       "      <td>female</td>\n",
       "      <td>38.0</td>\n",
       "      <td>1</td>\n",
       "      <td>0</td>\n",
       "      <td>71.2833</td>\n",
       "      <td>C</td>\n",
       "      <td>1</td>\n",
       "      <td>3.663562</td>\n",
       "      <td>4.280593</td>\n",
       "      <td>Mrs</td>\n",
       "    </tr>\n",
       "    <tr>\n",
       "      <th>2</th>\n",
       "      <td>3</td>\n",
       "      <td>female</td>\n",
       "      <td>26.0</td>\n",
       "      <td>0</td>\n",
       "      <td>0</td>\n",
       "      <td>7.9250</td>\n",
       "      <td>S</td>\n",
       "      <td>1</td>\n",
       "      <td>3.295837</td>\n",
       "      <td>2.188856</td>\n",
       "      <td>Miss</td>\n",
       "    </tr>\n",
       "    <tr>\n",
       "      <th>3</th>\n",
       "      <td>1</td>\n",
       "      <td>female</td>\n",
       "      <td>35.0</td>\n",
       "      <td>1</td>\n",
       "      <td>0</td>\n",
       "      <td>53.1000</td>\n",
       "      <td>S</td>\n",
       "      <td>1</td>\n",
       "      <td>3.583519</td>\n",
       "      <td>3.990834</td>\n",
       "      <td>Mrs</td>\n",
       "    </tr>\n",
       "    <tr>\n",
       "      <th>4</th>\n",
       "      <td>3</td>\n",
       "      <td>male</td>\n",
       "      <td>35.0</td>\n",
       "      <td>0</td>\n",
       "      <td>0</td>\n",
       "      <td>8.0500</td>\n",
       "      <td>S</td>\n",
       "      <td>1</td>\n",
       "      <td>3.583519</td>\n",
       "      <td>2.202765</td>\n",
       "      <td>Mr</td>\n",
       "    </tr>\n",
       "  </tbody>\n",
       "</table>\n",
       "</div>"
      ],
      "text/plain": [
       "   Pclass     Sex   Age  SibSp  Parch     Fare Embarked  train   Age_log  \\\n",
       "0       3    male  22.0      1      0   7.2500        S      1  3.135494   \n",
       "1       1  female  38.0      1      0  71.2833        C      1  3.663562   \n",
       "2       3  female  26.0      0      0   7.9250        S      1  3.295837   \n",
       "3       1  female  35.0      1      0  53.1000        S      1  3.583519   \n",
       "4       3    male  35.0      0      0   8.0500        S      1  3.583519   \n",
       "\n",
       "   Fare_log Name_cat  \n",
       "0  2.110213       Mr  \n",
       "1  4.280593      Mrs  \n",
       "2  2.188856     Miss  \n",
       "3  3.990834      Mrs  \n",
       "4  2.202765       Mr  "
      ]
     },
     "execution_count": 23,
     "metadata": {},
     "output_type": "execute_result"
    }
   ],
   "source": [
    "common_data.drop('Name', axis = 1, inplace = True)\n",
    "common_data.head()"
   ]
  },
  {
   "cell_type": "code",
   "execution_count": 24,
   "id": "f7261083",
   "metadata": {
    "execution": {
     "iopub.execute_input": "2022-10-24T02:19:56.889290Z",
     "iopub.status.busy": "2022-10-24T02:19:56.888847Z",
     "iopub.status.idle": "2022-10-24T02:19:56.898441Z",
     "shell.execute_reply": "2022-10-24T02:19:56.897459Z"
    },
    "papermill": {
     "duration": 0.033811,
     "end_time": "2022-10-24T02:19:56.900754",
     "exception": false,
     "start_time": "2022-10-24T02:19:56.866943",
     "status": "completed"
    },
    "tags": []
   },
   "outputs": [
    {
     "data": {
      "text/plain": [
       "Pclass        0\n",
       "Sex           0\n",
       "Age         177\n",
       "SibSp         0\n",
       "Parch         0\n",
       "Fare          0\n",
       "Embarked      2\n",
       "train         0\n",
       "Age_log     177\n",
       "Fare_log      0\n",
       "Name_cat      0\n",
       "dtype: int64"
      ]
     },
     "execution_count": 24,
     "metadata": {},
     "output_type": "execute_result"
    }
   ],
   "source": [
    "# what features should be filled in train_data\n",
    "common_data[common_data['train'] == 1].isna().sum()"
   ]
  },
  {
   "cell_type": "code",
   "execution_count": 25,
   "id": "5037e4fa",
   "metadata": {
    "execution": {
     "iopub.execute_input": "2022-10-24T02:19:56.943085Z",
     "iopub.status.busy": "2022-10-24T02:19:56.942695Z",
     "iopub.status.idle": "2022-10-24T02:19:56.953521Z",
     "shell.execute_reply": "2022-10-24T02:19:56.952525Z"
    },
    "papermill": {
     "duration": 0.034771,
     "end_time": "2022-10-24T02:19:56.955740",
     "exception": false,
     "start_time": "2022-10-24T02:19:56.920969",
     "status": "completed"
    },
    "tags": []
   },
   "outputs": [
    {
     "data": {
      "text/plain": [
       "Pclass       0\n",
       "Sex          0\n",
       "Age         86\n",
       "SibSp        0\n",
       "Parch        0\n",
       "Fare         1\n",
       "Embarked     0\n",
       "train        0\n",
       "Age_log     86\n",
       "Fare_log     1\n",
       "Name_cat     0\n",
       "dtype: int64"
      ]
     },
     "execution_count": 25,
     "metadata": {},
     "output_type": "execute_result"
    }
   ],
   "source": [
    "# what features should be filled in test_data\n",
    "common_data[common_data['train'] == 0].isna().sum()"
   ]
  },
  {
   "cell_type": "code",
   "execution_count": 26,
   "id": "294417cb",
   "metadata": {
    "execution": {
     "iopub.execute_input": "2022-10-24T02:19:56.999085Z",
     "iopub.status.busy": "2022-10-24T02:19:56.998670Z",
     "iopub.status.idle": "2022-10-24T02:19:58.575128Z",
     "shell.execute_reply": "2022-10-24T02:19:58.573985Z"
    },
    "papermill": {
     "duration": 1.601149,
     "end_time": "2022-10-24T02:19:58.577461",
     "exception": false,
     "start_time": "2022-10-24T02:19:56.976312",
     "status": "completed"
    },
    "tags": []
   },
   "outputs": [
    {
     "data": {
      "image/png": "[encoded data removed]",
      "text/plain": [
       "<Figure size 432x288 with 1 Axes>"
      ]
     },
     "metadata": {},
     "output_type": "display_data"
    },
    {
     "data": {
      "image/png": "[encoded data removed]",
      "text/plain": [
       "<Figure size 432x288 with 1 Axes>"
      ]
     },
     "metadata": {},
     "output_type": "display_data"
    },
    {
     "data": {
      "image/png": "[encoded data removed]",
      "text/plain": [
       "<Figure size 432x288 with 1 Axes>"
      ]
     },
     "metadata": {},
     "output_type": "display_data"
    },
    {
     "data": {
      "image/png": "[encoded data removed]",
      "text/plain": [
       "<Figure size 432x288 with 1 Axes>"
      ]
     },
     "metadata": {},
     "output_type": "display_data"
    },
    {
     "data": {
      "image/png": "[encoded data removed]",
      "text/plain": [
       "<Figure size 432x288 with 1 Axes>"
      ]
     },
     "metadata": {},
     "output_type": "display_data"
    },
    {
     "data": {
      "image/png": "[encoded data removed]",
      "text/plain": [
       "<Figure size 432x288 with 1 Axes>"
      ]
     },
     "metadata": {},
     "output_type": "display_data"
    }
   ],
   "source": [
    "# there are a lot of null values in 'Age' feature\n",
    "# let's check how this feature correlated with others\n",
    "categorical_features.append('Name_cat')\n",
    "\n",
    "for i in categorical_features:\n",
    "    sns.boxplot(data = common_data, x = i, y = 'Age_log', orient = 'v')\n",
    "    plt.show()"
   ]
  },
  {
   "cell_type": "markdown",
   "id": "fe9a2dd6",
   "metadata": {
    "papermill": {
     "duration": 0.020106,
     "end_time": "2022-10-24T02:19:58.618157",
     "exception": false,
     "start_time": "2022-10-24T02:19:58.598051",
     "status": "completed"
    },
    "tags": []
   },
   "source": [
    "It seems it makes sense to fill in 'Age' empty values according to the 'Name_cat' feature ('Patch' feature looks better but there are no 'Age' values for Patch = 9!)"
   ]
  },
  {
   "cell_type": "code",
   "execution_count": 27,
   "id": "385fe0cf",
   "metadata": {
    "execution": {
     "iopub.execute_input": "2022-10-24T02:19:58.660972Z",
     "iopub.status.busy": "2022-10-24T02:19:58.660562Z",
     "iopub.status.idle": "2022-10-24T02:19:58.668317Z",
     "shell.execute_reply": "2022-10-24T02:19:58.667472Z"
    },
    "papermill": {
     "duration": 0.031738,
     "end_time": "2022-10-24T02:19:58.670475",
     "exception": false,
     "start_time": "2022-10-24T02:19:58.638737",
     "status": "completed"
    },
    "tags": []
   },
   "outputs": [],
   "source": [
    "#remove 2 null values of 'Embarked' feature\n",
    "ids = common_data[pd.isna(common_data['Embarked'])].index\n",
    "y.drop(labels = ids, inplace = True)\n",
    "common_data.drop(labels = ids, axis = 0, inplace = True)"
   ]
  },
  {
   "cell_type": "code",
   "execution_count": 28,
   "id": "d2d09256",
   "metadata": {
    "execution": {
     "iopub.execute_input": "2022-10-24T02:19:58.713265Z",
     "iopub.status.busy": "2022-10-24T02:19:58.712842Z",
     "iopub.status.idle": "2022-10-24T02:19:58.727448Z",
     "shell.execute_reply": "2022-10-24T02:19:58.726270Z"
    },
    "papermill": {
     "duration": 0.038828,
     "end_time": "2022-10-24T02:19:58.729826",
     "exception": false,
     "start_time": "2022-10-24T02:19:58.690998",
     "status": "completed"
    },
    "tags": []
   },
   "outputs": [
    {
     "data": {
      "text/plain": [
       "0"
      ]
     },
     "execution_count": 28,
     "metadata": {},
     "output_type": "execute_result"
    }
   ],
   "source": [
    "#age\n",
    "from scipy.stats import trim_mean\n",
    "common_data['Age_log'].fillna(common_data.groupby('Name_cat')['Age_log'].transform(lambda x: trim_mean(x.dropna(), 0.05)), inplace = True)\n",
    "common_data['Age_log'].isna().sum()"
   ]
  },
  {
   "cell_type": "code",
   "execution_count": 29,
   "id": "0befbfa3",
   "metadata": {
    "execution": {
     "iopub.execute_input": "2022-10-24T02:19:58.773452Z",
     "iopub.status.busy": "2022-10-24T02:19:58.773030Z",
     "iopub.status.idle": "2022-10-24T02:19:58.789670Z",
     "shell.execute_reply": "2022-10-24T02:19:58.788476Z"
    },
    "papermill": {
     "duration": 0.04108,
     "end_time": "2022-10-24T02:19:58.792053",
     "exception": false,
     "start_time": "2022-10-24T02:19:58.750973",
     "status": "completed"
    },
    "tags": []
   },
   "outputs": [
    {
     "data": {
      "text/html": [
       "<div>\n",
       "<style scoped>\n",
       "    .dataframe tbody tr th:only-of-type {\n",
       "        vertical-align: middle;\n",
       "    }\n",
       "\n",
       "    .dataframe tbody tr th {\n",
       "        vertical-align: top;\n",
       "    }\n",
       "\n",
       "    .dataframe thead th {\n",
       "        text-align: right;\n",
       "    }\n",
       "</style>\n",
       "<table border=\"1\" class=\"dataframe\">\n",
       "  <thead>\n",
       "    <tr style=\"text-align: right;\">\n",
       "      <th></th>\n",
       "      <th>Pclass</th>\n",
       "      <th>Sex</th>\n",
       "      <th>Age</th>\n",
       "      <th>SibSp</th>\n",
       "      <th>Parch</th>\n",
       "      <th>Fare</th>\n",
       "      <th>Embarked</th>\n",
       "      <th>train</th>\n",
       "      <th>Age_log</th>\n",
       "      <th>Fare_log</th>\n",
       "      <th>Name_cat</th>\n",
       "    </tr>\n",
       "  </thead>\n",
       "  <tbody>\n",
       "    <tr>\n",
       "      <th>1043</th>\n",
       "      <td>3</td>\n",
       "      <td>male</td>\n",
       "      <td>60.5</td>\n",
       "      <td>0</td>\n",
       "      <td>0</td>\n",
       "      <td>NaN</td>\n",
       "      <td>S</td>\n",
       "      <td>0</td>\n",
       "      <td>4.119037</td>\n",
       "      <td>NaN</td>\n",
       "      <td>Mr</td>\n",
       "    </tr>\n",
       "  </tbody>\n",
       "</table>\n",
       "</div>"
      ],
      "text/plain": [
       "      Pclass   Sex   Age  SibSp  Parch  Fare Embarked  train   Age_log  \\\n",
       "1043       3  male  60.5      0      0   NaN        S      0  4.119037   \n",
       "\n",
       "      Fare_log Name_cat  \n",
       "1043       NaN       Mr  "
      ]
     },
     "execution_count": 29,
     "metadata": {},
     "output_type": "execute_result"
    }
   ],
   "source": [
    "#fare (use median because 'Fare' feature distribution is not normal)\n",
    "common_data[pd.isna(common_data['Fare_log'])]"
   ]
  },
  {
   "cell_type": "code",
   "execution_count": 30,
   "id": "24e95212",
   "metadata": {
    "execution": {
     "iopub.execute_input": "2022-10-24T02:19:58.837017Z",
     "iopub.status.busy": "2022-10-24T02:19:58.836566Z",
     "iopub.status.idle": "2022-10-24T02:19:59.078696Z",
     "shell.execute_reply": "2022-10-24T02:19:59.077889Z"
    },
    "papermill": {
     "duration": 0.267418,
     "end_time": "2022-10-24T02:19:59.080974",
     "exception": false,
     "start_time": "2022-10-24T02:19:58.813556",
     "status": "completed"
    },
    "tags": []
   },
   "outputs": [
    {
     "data": {
      "text/plain": [
       "<AxesSubplot:xlabel='Pclass', ylabel='Fare_log'>"
      ]
     },
     "execution_count": 30,
     "metadata": {},
     "output_type": "execute_result"
    },
    {
     "data": {
      "image/png": "[encoded data removed]",
      "text/plain": [
       "<Figure size 432x288 with 1 Axes>"
      ]
     },
     "metadata": {},
     "output_type": "display_data"
    }
   ],
   "source": [
    "sns.boxplot(data = common_data, x = 'Pclass', y = 'Fare_log', orient = 'v')"
   ]
  },
  {
   "cell_type": "code",
   "execution_count": 31,
   "id": "243a80e4",
   "metadata": {
    "execution": {
     "iopub.execute_input": "2022-10-24T02:19:59.126000Z",
     "iopub.status.busy": "2022-10-24T02:19:59.125426Z",
     "iopub.status.idle": "2022-10-24T02:19:59.133338Z",
     "shell.execute_reply": "2022-10-24T02:19:59.132188Z"
    },
    "papermill": {
     "duration": 0.033367,
     "end_time": "2022-10-24T02:19:59.135973",
     "exception": false,
     "start_time": "2022-10-24T02:19:59.102606",
     "status": "completed"
    },
    "tags": []
   },
   "outputs": [],
   "source": [
    "common_data['Fare_log'].fillna(common_data[common_data['Pclass'] == 3]['Fare_log'].median(), inplace = True) "
   ]
  },
  {
   "cell_type": "code",
   "execution_count": 32,
   "id": "374a4a1e",
   "metadata": {
    "execution": {
     "iopub.execute_input": "2022-10-24T02:19:59.180624Z",
     "iopub.status.busy": "2022-10-24T02:19:59.180176Z",
     "iopub.status.idle": "2022-10-24T02:19:59.204208Z",
     "shell.execute_reply": "2022-10-24T02:19:59.202720Z"
    },
    "papermill": {
     "duration": 0.049587,
     "end_time": "2022-10-24T02:19:59.207054",
     "exception": false,
     "start_time": "2022-10-24T02:19:59.157467",
     "status": "completed"
    },
    "tags": []
   },
   "outputs": [
    {
     "data": {
      "text/html": [
       "<div>\n",
       "<style scoped>\n",
       "    .dataframe tbody tr th:only-of-type {\n",
       "        vertical-align: middle;\n",
       "    }\n",
       "\n",
       "    .dataframe tbody tr th {\n",
       "        vertical-align: top;\n",
       "    }\n",
       "\n",
       "    .dataframe thead th {\n",
       "        text-align: right;\n",
       "    }\n",
       "</style>\n",
       "<table border=\"1\" class=\"dataframe\">\n",
       "  <thead>\n",
       "    <tr style=\"text-align: right;\">\n",
       "      <th></th>\n",
       "      <th>Pclass</th>\n",
       "      <th>Sex</th>\n",
       "      <th>SibSp</th>\n",
       "      <th>Parch</th>\n",
       "      <th>Embarked</th>\n",
       "      <th>train</th>\n",
       "      <th>Age_log</th>\n",
       "      <th>Fare_log</th>\n",
       "      <th>Name_cat</th>\n",
       "    </tr>\n",
       "  </thead>\n",
       "  <tbody>\n",
       "    <tr>\n",
       "      <th>0</th>\n",
       "      <td>3</td>\n",
       "      <td>male</td>\n",
       "      <td>1</td>\n",
       "      <td>0</td>\n",
       "      <td>S</td>\n",
       "      <td>1</td>\n",
       "      <td>3.135494</td>\n",
       "      <td>2.110213</td>\n",
       "      <td>Mr</td>\n",
       "    </tr>\n",
       "    <tr>\n",
       "      <th>1</th>\n",
       "      <td>1</td>\n",
       "      <td>female</td>\n",
       "      <td>1</td>\n",
       "      <td>0</td>\n",
       "      <td>C</td>\n",
       "      <td>1</td>\n",
       "      <td>3.663562</td>\n",
       "      <td>4.280593</td>\n",
       "      <td>Mrs</td>\n",
       "    </tr>\n",
       "    <tr>\n",
       "      <th>2</th>\n",
       "      <td>3</td>\n",
       "      <td>female</td>\n",
       "      <td>0</td>\n",
       "      <td>0</td>\n",
       "      <td>S</td>\n",
       "      <td>1</td>\n",
       "      <td>3.295837</td>\n",
       "      <td>2.188856</td>\n",
       "      <td>Miss</td>\n",
       "    </tr>\n",
       "    <tr>\n",
       "      <th>3</th>\n",
       "      <td>1</td>\n",
       "      <td>female</td>\n",
       "      <td>1</td>\n",
       "      <td>0</td>\n",
       "      <td>S</td>\n",
       "      <td>1</td>\n",
       "      <td>3.583519</td>\n",
       "      <td>3.990834</td>\n",
       "      <td>Mrs</td>\n",
       "    </tr>\n",
       "    <tr>\n",
       "      <th>4</th>\n",
       "      <td>3</td>\n",
       "      <td>male</td>\n",
       "      <td>0</td>\n",
       "      <td>0</td>\n",
       "      <td>S</td>\n",
       "      <td>1</td>\n",
       "      <td>3.583519</td>\n",
       "      <td>2.202765</td>\n",
       "      <td>Mr</td>\n",
       "    </tr>\n",
       "    <tr>\n",
       "      <th>...</th>\n",
       "      <td>...</td>\n",
       "      <td>...</td>\n",
       "      <td>...</td>\n",
       "      <td>...</td>\n",
       "      <td>...</td>\n",
       "      <td>...</td>\n",
       "      <td>...</td>\n",
       "      <td>...</td>\n",
       "      <td>...</td>\n",
       "    </tr>\n",
       "    <tr>\n",
       "      <th>1304</th>\n",
       "      <td>3</td>\n",
       "      <td>male</td>\n",
       "      <td>0</td>\n",
       "      <td>0</td>\n",
       "      <td>S</td>\n",
       "      <td>0</td>\n",
       "      <td>3.433319</td>\n",
       "      <td>2.202765</td>\n",
       "      <td>Mr</td>\n",
       "    </tr>\n",
       "    <tr>\n",
       "      <th>1305</th>\n",
       "      <td>1</td>\n",
       "      <td>female</td>\n",
       "      <td>0</td>\n",
       "      <td>0</td>\n",
       "      <td>C</td>\n",
       "      <td>0</td>\n",
       "      <td>3.688879</td>\n",
       "      <td>4.699571</td>\n",
       "      <td>Other</td>\n",
       "    </tr>\n",
       "    <tr>\n",
       "      <th>1306</th>\n",
       "      <td>3</td>\n",
       "      <td>male</td>\n",
       "      <td>0</td>\n",
       "      <td>0</td>\n",
       "      <td>S</td>\n",
       "      <td>0</td>\n",
       "      <td>3.676301</td>\n",
       "      <td>2.110213</td>\n",
       "      <td>Mr</td>\n",
       "    </tr>\n",
       "    <tr>\n",
       "      <th>1307</th>\n",
       "      <td>3</td>\n",
       "      <td>male</td>\n",
       "      <td>0</td>\n",
       "      <td>0</td>\n",
       "      <td>S</td>\n",
       "      <td>0</td>\n",
       "      <td>3.433319</td>\n",
       "      <td>2.202765</td>\n",
       "      <td>Mr</td>\n",
       "    </tr>\n",
       "    <tr>\n",
       "      <th>1308</th>\n",
       "      <td>3</td>\n",
       "      <td>male</td>\n",
       "      <td>1</td>\n",
       "      <td>1</td>\n",
       "      <td>C</td>\n",
       "      <td>0</td>\n",
       "      <td>2.434294</td>\n",
       "      <td>3.150952</td>\n",
       "      <td>Other</td>\n",
       "    </tr>\n",
       "  </tbody>\n",
       "</table>\n",
       "<p>1307 rows × 9 columns</p>\n",
       "</div>"
      ],
      "text/plain": [
       "      Pclass     Sex  SibSp  Parch Embarked  train   Age_log  Fare_log  \\\n",
       "0          3    male      1      0        S      1  3.135494  2.110213   \n",
       "1          1  female      1      0        C      1  3.663562  4.280593   \n",
       "2          3  female      0      0        S      1  3.295837  2.188856   \n",
       "3          1  female      1      0        S      1  3.583519  3.990834   \n",
       "4          3    male      0      0        S      1  3.583519  2.202765   \n",
       "...      ...     ...    ...    ...      ...    ...       ...       ...   \n",
       "1304       3    male      0      0        S      0  3.433319  2.202765   \n",
       "1305       1  female      0      0        C      0  3.688879  4.699571   \n",
       "1306       3    male      0      0        S      0  3.676301  2.110213   \n",
       "1307       3    male      0      0        S      0  3.433319  2.202765   \n",
       "1308       3    male      1      1        C      0  2.434294  3.150952   \n",
       "\n",
       "     Name_cat  \n",
       "0          Mr  \n",
       "1         Mrs  \n",
       "2        Miss  \n",
       "3         Mrs  \n",
       "4          Mr  \n",
       "...       ...  \n",
       "1304       Mr  \n",
       "1305    Other  \n",
       "1306       Mr  \n",
       "1307       Mr  \n",
       "1308    Other  \n",
       "\n",
       "[1307 rows x 9 columns]"
      ]
     },
     "execution_count": 32,
     "metadata": {},
     "output_type": "execute_result"
    }
   ],
   "source": [
    "common_data.drop(columns = numeric_features, inplace = True)\n",
    "common_data"
   ]
  },
  {
   "cell_type": "code",
   "execution_count": 33,
   "id": "6d7db594",
   "metadata": {
    "execution": {
     "iopub.execute_input": "2022-10-24T02:19:59.252816Z",
     "iopub.status.busy": "2022-10-24T02:19:59.251667Z",
     "iopub.status.idle": "2022-10-24T02:19:59.260758Z",
     "shell.execute_reply": "2022-10-24T02:19:59.259656Z"
    },
    "papermill": {
     "duration": 0.034131,
     "end_time": "2022-10-24T02:19:59.263258",
     "exception": false,
     "start_time": "2022-10-24T02:19:59.229127",
     "status": "completed"
    },
    "tags": []
   },
   "outputs": [
    {
     "data": {
      "text/plain": [
       "Pclass      0\n",
       "Sex         0\n",
       "SibSp       0\n",
       "Parch       0\n",
       "Embarked    0\n",
       "train       0\n",
       "Age_log     0\n",
       "Fare_log    0\n",
       "Name_cat    0\n",
       "dtype: int64"
      ]
     },
     "execution_count": 33,
     "metadata": {},
     "output_type": "execute_result"
    }
   ],
   "source": [
    "common_data.isna().sum()"
   ]
  },
  {
   "cell_type": "code",
   "execution_count": 34,
   "id": "75217674",
   "metadata": {
    "execution": {
     "iopub.execute_input": "2022-10-24T02:19:59.309696Z",
     "iopub.status.busy": "2022-10-24T02:19:59.308649Z",
     "iopub.status.idle": "2022-10-24T02:19:59.346298Z",
     "shell.execute_reply": "2022-10-24T02:19:59.345163Z"
    },
    "papermill": {
     "duration": 0.063527,
     "end_time": "2022-10-24T02:19:59.348963",
     "exception": false,
     "start_time": "2022-10-24T02:19:59.285436",
     "status": "completed"
    },
    "tags": []
   },
   "outputs": [
    {
     "data": {
      "text/html": [
       "<div>\n",
       "<style scoped>\n",
       "    .dataframe tbody tr th:only-of-type {\n",
       "        vertical-align: middle;\n",
       "    }\n",
       "\n",
       "    .dataframe tbody tr th {\n",
       "        vertical-align: top;\n",
       "    }\n",
       "\n",
       "    .dataframe thead th {\n",
       "        text-align: right;\n",
       "    }\n",
       "</style>\n",
       "<table border=\"1\" class=\"dataframe\">\n",
       "  <thead>\n",
       "    <tr style=\"text-align: right;\">\n",
       "      <th></th>\n",
       "      <th>train</th>\n",
       "      <th>Age_log</th>\n",
       "      <th>Fare_log</th>\n",
       "      <th>Pclass_2</th>\n",
       "      <th>Pclass_3</th>\n",
       "      <th>Sex_male</th>\n",
       "      <th>SibSp_1</th>\n",
       "      <th>SibSp_2</th>\n",
       "      <th>SibSp_3</th>\n",
       "      <th>SibSp_4</th>\n",
       "      <th>...</th>\n",
       "      <th>Parch_3</th>\n",
       "      <th>Parch_4</th>\n",
       "      <th>Parch_5</th>\n",
       "      <th>Parch_6</th>\n",
       "      <th>Parch_9</th>\n",
       "      <th>Embarked_Q</th>\n",
       "      <th>Embarked_S</th>\n",
       "      <th>Name_cat_Mr</th>\n",
       "      <th>Name_cat_Mrs</th>\n",
       "      <th>Name_cat_Other</th>\n",
       "    </tr>\n",
       "  </thead>\n",
       "  <tbody>\n",
       "    <tr>\n",
       "      <th>0</th>\n",
       "      <td>1</td>\n",
       "      <td>3.135494</td>\n",
       "      <td>2.110213</td>\n",
       "      <td>0</td>\n",
       "      <td>1</td>\n",
       "      <td>1</td>\n",
       "      <td>1</td>\n",
       "      <td>0</td>\n",
       "      <td>0</td>\n",
       "      <td>0</td>\n",
       "      <td>...</td>\n",
       "      <td>0</td>\n",
       "      <td>0</td>\n",
       "      <td>0</td>\n",
       "      <td>0</td>\n",
       "      <td>0</td>\n",
       "      <td>0</td>\n",
       "      <td>1</td>\n",
       "      <td>1</td>\n",
       "      <td>0</td>\n",
       "      <td>0</td>\n",
       "    </tr>\n",
       "    <tr>\n",
       "      <th>1</th>\n",
       "      <td>1</td>\n",
       "      <td>3.663562</td>\n",
       "      <td>4.280593</td>\n",
       "      <td>0</td>\n",
       "      <td>0</td>\n",
       "      <td>0</td>\n",
       "      <td>1</td>\n",
       "      <td>0</td>\n",
       "      <td>0</td>\n",
       "      <td>0</td>\n",
       "      <td>...</td>\n",
       "      <td>0</td>\n",
       "      <td>0</td>\n",
       "      <td>0</td>\n",
       "      <td>0</td>\n",
       "      <td>0</td>\n",
       "      <td>0</td>\n",
       "      <td>0</td>\n",
       "      <td>0</td>\n",
       "      <td>1</td>\n",
       "      <td>0</td>\n",
       "    </tr>\n",
       "    <tr>\n",
       "      <th>2</th>\n",
       "      <td>1</td>\n",
       "      <td>3.295837</td>\n",
       "      <td>2.188856</td>\n",
       "      <td>0</td>\n",
       "      <td>1</td>\n",
       "      <td>0</td>\n",
       "      <td>0</td>\n",
       "      <td>0</td>\n",
       "      <td>0</td>\n",
       "      <td>0</td>\n",
       "      <td>...</td>\n",
       "      <td>0</td>\n",
       "      <td>0</td>\n",
       "      <td>0</td>\n",
       "      <td>0</td>\n",
       "      <td>0</td>\n",
       "      <td>0</td>\n",
       "      <td>1</td>\n",
       "      <td>0</td>\n",
       "      <td>0</td>\n",
       "      <td>0</td>\n",
       "    </tr>\n",
       "    <tr>\n",
       "      <th>3</th>\n",
       "      <td>1</td>\n",
       "      <td>3.583519</td>\n",
       "      <td>3.990834</td>\n",
       "      <td>0</td>\n",
       "      <td>0</td>\n",
       "      <td>0</td>\n",
       "      <td>1</td>\n",
       "      <td>0</td>\n",
       "      <td>0</td>\n",
       "      <td>0</td>\n",
       "      <td>...</td>\n",
       "      <td>0</td>\n",
       "      <td>0</td>\n",
       "      <td>0</td>\n",
       "      <td>0</td>\n",
       "      <td>0</td>\n",
       "      <td>0</td>\n",
       "      <td>1</td>\n",
       "      <td>0</td>\n",
       "      <td>1</td>\n",
       "      <td>0</td>\n",
       "    </tr>\n",
       "    <tr>\n",
       "      <th>4</th>\n",
       "      <td>1</td>\n",
       "      <td>3.583519</td>\n",
       "      <td>2.202765</td>\n",
       "      <td>0</td>\n",
       "      <td>1</td>\n",
       "      <td>1</td>\n",
       "      <td>0</td>\n",
       "      <td>0</td>\n",
       "      <td>0</td>\n",
       "      <td>0</td>\n",
       "      <td>...</td>\n",
       "      <td>0</td>\n",
       "      <td>0</td>\n",
       "      <td>0</td>\n",
       "      <td>0</td>\n",
       "      <td>0</td>\n",
       "      <td>0</td>\n",
       "      <td>1</td>\n",
       "      <td>1</td>\n",
       "      <td>0</td>\n",
       "      <td>0</td>\n",
       "    </tr>\n",
       "    <tr>\n",
       "      <th>...</th>\n",
       "      <td>...</td>\n",
       "      <td>...</td>\n",
       "      <td>...</td>\n",
       "      <td>...</td>\n",
       "      <td>...</td>\n",
       "      <td>...</td>\n",
       "      <td>...</td>\n",
       "      <td>...</td>\n",
       "      <td>...</td>\n",
       "      <td>...</td>\n",
       "      <td>...</td>\n",
       "      <td>...</td>\n",
       "      <td>...</td>\n",
       "      <td>...</td>\n",
       "      <td>...</td>\n",
       "      <td>...</td>\n",
       "      <td>...</td>\n",
       "      <td>...</td>\n",
       "      <td>...</td>\n",
       "      <td>...</td>\n",
       "      <td>...</td>\n",
       "    </tr>\n",
       "    <tr>\n",
       "      <th>1304</th>\n",
       "      <td>0</td>\n",
       "      <td>3.433319</td>\n",
       "      <td>2.202765</td>\n",
       "      <td>0</td>\n",
       "      <td>1</td>\n",
       "      <td>1</td>\n",
       "      <td>0</td>\n",
       "      <td>0</td>\n",
       "      <td>0</td>\n",
       "      <td>0</td>\n",
       "      <td>...</td>\n",
       "      <td>0</td>\n",
       "      <td>0</td>\n",
       "      <td>0</td>\n",
       "      <td>0</td>\n",
       "      <td>0</td>\n",
       "      <td>0</td>\n",
       "      <td>1</td>\n",
       "      <td>1</td>\n",
       "      <td>0</td>\n",
       "      <td>0</td>\n",
       "    </tr>\n",
       "    <tr>\n",
       "      <th>1305</th>\n",
       "      <td>0</td>\n",
       "      <td>3.688879</td>\n",
       "      <td>4.699571</td>\n",
       "      <td>0</td>\n",
       "      <td>0</td>\n",
       "      <td>0</td>\n",
       "      <td>0</td>\n",
       "      <td>0</td>\n",
       "      <td>0</td>\n",
       "      <td>0</td>\n",
       "      <td>...</td>\n",
       "      <td>0</td>\n",
       "      <td>0</td>\n",
       "      <td>0</td>\n",
       "      <td>0</td>\n",
       "      <td>0</td>\n",
       "      <td>0</td>\n",
       "      <td>0</td>\n",
       "      <td>0</td>\n",
       "      <td>0</td>\n",
       "      <td>1</td>\n",
       "    </tr>\n",
       "    <tr>\n",
       "      <th>1306</th>\n",
       "      <td>0</td>\n",
       "      <td>3.676301</td>\n",
       "      <td>2.110213</td>\n",
       "      <td>0</td>\n",
       "      <td>1</td>\n",
       "      <td>1</td>\n",
       "      <td>0</td>\n",
       "      <td>0</td>\n",
       "      <td>0</td>\n",
       "      <td>0</td>\n",
       "      <td>...</td>\n",
       "      <td>0</td>\n",
       "      <td>0</td>\n",
       "      <td>0</td>\n",
       "      <td>0</td>\n",
       "      <td>0</td>\n",
       "      <td>0</td>\n",
       "      <td>1</td>\n",
       "      <td>1</td>\n",
       "      <td>0</td>\n",
       "      <td>0</td>\n",
       "    </tr>\n",
       "    <tr>\n",
       "      <th>1307</th>\n",
       "      <td>0</td>\n",
       "      <td>3.433319</td>\n",
       "      <td>2.202765</td>\n",
       "      <td>0</td>\n",
       "      <td>1</td>\n",
       "      <td>1</td>\n",
       "      <td>0</td>\n",
       "      <td>0</td>\n",
       "      <td>0</td>\n",
       "      <td>0</td>\n",
       "      <td>...</td>\n",
       "      <td>0</td>\n",
       "      <td>0</td>\n",
       "      <td>0</td>\n",
       "      <td>0</td>\n",
       "      <td>0</td>\n",
       "      <td>0</td>\n",
       "      <td>1</td>\n",
       "      <td>1</td>\n",
       "      <td>0</td>\n",
       "      <td>0</td>\n",
       "    </tr>\n",
       "    <tr>\n",
       "      <th>1308</th>\n",
       "      <td>0</td>\n",
       "      <td>2.434294</td>\n",
       "      <td>3.150952</td>\n",
       "      <td>0</td>\n",
       "      <td>1</td>\n",
       "      <td>1</td>\n",
       "      <td>1</td>\n",
       "      <td>0</td>\n",
       "      <td>0</td>\n",
       "      <td>0</td>\n",
       "      <td>...</td>\n",
       "      <td>0</td>\n",
       "      <td>0</td>\n",
       "      <td>0</td>\n",
       "      <td>0</td>\n",
       "      <td>0</td>\n",
       "      <td>0</td>\n",
       "      <td>0</td>\n",
       "      <td>0</td>\n",
       "      <td>0</td>\n",
       "      <td>1</td>\n",
       "    </tr>\n",
       "  </tbody>\n",
       "</table>\n",
       "<p>1307 rows × 24 columns</p>\n",
       "</div>"
      ],
      "text/plain": [
       "      train   Age_log  Fare_log  Pclass_2  Pclass_3  Sex_male  SibSp_1  \\\n",
       "0         1  3.135494  2.110213         0         1         1        1   \n",
       "1         1  3.663562  4.280593         0         0         0        1   \n",
       "2         1  3.295837  2.188856         0         1         0        0   \n",
       "3         1  3.583519  3.990834         0         0         0        1   \n",
       "4         1  3.583519  2.202765         0         1         1        0   \n",
       "...     ...       ...       ...       ...       ...       ...      ...   \n",
       "1304      0  3.433319  2.202765         0         1         1        0   \n",
       "1305      0  3.688879  4.699571         0         0         0        0   \n",
       "1306      0  3.676301  2.110213         0         1         1        0   \n",
       "1307      0  3.433319  2.202765         0         1         1        0   \n",
       "1308      0  2.434294  3.150952         0         1         1        1   \n",
       "\n",
       "      SibSp_2  SibSp_3  SibSp_4  ...  Parch_3  Parch_4  Parch_5  Parch_6  \\\n",
       "0           0        0        0  ...        0        0        0        0   \n",
       "1           0        0        0  ...        0        0        0        0   \n",
       "2           0        0        0  ...        0        0        0        0   \n",
       "3           0        0        0  ...        0        0        0        0   \n",
       "4           0        0        0  ...        0        0        0        0   \n",
       "...       ...      ...      ...  ...      ...      ...      ...      ...   \n",
       "1304        0        0        0  ...        0        0        0        0   \n",
       "1305        0        0        0  ...        0        0        0        0   \n",
       "1306        0        0        0  ...        0        0        0        0   \n",
       "1307        0        0        0  ...        0        0        0        0   \n",
       "1308        0        0        0  ...        0        0        0        0   \n",
       "\n",
       "      Parch_9  Embarked_Q  Embarked_S  Name_cat_Mr  Name_cat_Mrs  \\\n",
       "0           0           0           1            1             0   \n",
       "1           0           0           0            0             1   \n",
       "2           0           0           1            0             0   \n",
       "3           0           0           1            0             1   \n",
       "4           0           0           1            1             0   \n",
       "...       ...         ...         ...          ...           ...   \n",
       "1304        0           0           1            1             0   \n",
       "1305        0           0           0            0             0   \n",
       "1306        0           0           1            1             0   \n",
       "1307        0           0           1            1             0   \n",
       "1308        0           0           0            0             0   \n",
       "\n",
       "      Name_cat_Other  \n",
       "0                  0  \n",
       "1                  0  \n",
       "2                  0  \n",
       "3                  0  \n",
       "4                  0  \n",
       "...              ...  \n",
       "1304               0  \n",
       "1305               1  \n",
       "1306               0  \n",
       "1307               0  \n",
       "1308               1  \n",
       "\n",
       "[1307 rows x 24 columns]"
      ]
     },
     "execution_count": 34,
     "metadata": {},
     "output_type": "execute_result"
    }
   ],
   "source": [
    "common_data[categorical_features] = common_data[categorical_features].astype('category')\n",
    "data_dummies = pd.get_dummies(common_data, drop_first = True)\n",
    "data_dummies"
   ]
  },
  {
   "cell_type": "code",
   "execution_count": 35,
   "id": "fe09afe6",
   "metadata": {
    "execution": {
     "iopub.execute_input": "2022-10-24T02:19:59.395377Z",
     "iopub.status.busy": "2022-10-24T02:19:59.394924Z",
     "iopub.status.idle": "2022-10-24T02:19:59.402513Z",
     "shell.execute_reply": "2022-10-24T02:19:59.401537Z"
    },
    "papermill": {
     "duration": 0.033581,
     "end_time": "2022-10-24T02:19:59.404999",
     "exception": false,
     "start_time": "2022-10-24T02:19:59.371418",
     "status": "completed"
    },
    "tags": []
   },
   "outputs": [],
   "source": [
    "X_train = data_dummies[data_dummies['train'] == 1]\n",
    "X_test = data_dummies[data_dummies['train'] == 0]"
   ]
  },
  {
   "cell_type": "code",
   "execution_count": 36,
   "id": "592e7c26",
   "metadata": {
    "execution": {
     "iopub.execute_input": "2022-10-24T02:19:59.454248Z",
     "iopub.status.busy": "2022-10-24T02:19:59.453555Z",
     "iopub.status.idle": "2022-10-24T02:19:59.473817Z",
     "shell.execute_reply": "2022-10-24T02:19:59.472722Z"
    },
    "papermill": {
     "duration": 0.04822,
     "end_time": "2022-10-24T02:19:59.476031",
     "exception": false,
     "start_time": "2022-10-24T02:19:59.427811",
     "status": "completed"
    },
    "tags": []
   },
   "outputs": [
    {
     "data": {
      "text/html": [
       "<div>\n",
       "<style scoped>\n",
       "    .dataframe tbody tr th:only-of-type {\n",
       "        vertical-align: middle;\n",
       "    }\n",
       "\n",
       "    .dataframe tbody tr th {\n",
       "        vertical-align: top;\n",
       "    }\n",
       "\n",
       "    .dataframe thead th {\n",
       "        text-align: right;\n",
       "    }\n",
       "</style>\n",
       "<table border=\"1\" class=\"dataframe\">\n",
       "  <thead>\n",
       "    <tr style=\"text-align: right;\">\n",
       "      <th></th>\n",
       "      <th>Age_log</th>\n",
       "      <th>Fare_log</th>\n",
       "      <th>Pclass_2</th>\n",
       "      <th>Pclass_3</th>\n",
       "      <th>Sex_male</th>\n",
       "      <th>SibSp_1</th>\n",
       "      <th>SibSp_2</th>\n",
       "      <th>SibSp_3</th>\n",
       "      <th>SibSp_4</th>\n",
       "      <th>SibSp_5</th>\n",
       "      <th>...</th>\n",
       "      <th>Parch_3</th>\n",
       "      <th>Parch_4</th>\n",
       "      <th>Parch_5</th>\n",
       "      <th>Parch_6</th>\n",
       "      <th>Parch_9</th>\n",
       "      <th>Embarked_Q</th>\n",
       "      <th>Embarked_S</th>\n",
       "      <th>Name_cat_Mr</th>\n",
       "      <th>Name_cat_Mrs</th>\n",
       "      <th>Name_cat_Other</th>\n",
       "    </tr>\n",
       "  </thead>\n",
       "  <tbody>\n",
       "    <tr>\n",
       "      <th>0</th>\n",
       "      <td>3.135494</td>\n",
       "      <td>2.110213</td>\n",
       "      <td>0</td>\n",
       "      <td>1</td>\n",
       "      <td>1</td>\n",
       "      <td>1</td>\n",
       "      <td>0</td>\n",
       "      <td>0</td>\n",
       "      <td>0</td>\n",
       "      <td>0</td>\n",
       "      <td>...</td>\n",
       "      <td>0</td>\n",
       "      <td>0</td>\n",
       "      <td>0</td>\n",
       "      <td>0</td>\n",
       "      <td>0</td>\n",
       "      <td>0</td>\n",
       "      <td>1</td>\n",
       "      <td>1</td>\n",
       "      <td>0</td>\n",
       "      <td>0</td>\n",
       "    </tr>\n",
       "    <tr>\n",
       "      <th>1</th>\n",
       "      <td>3.663562</td>\n",
       "      <td>4.280593</td>\n",
       "      <td>0</td>\n",
       "      <td>0</td>\n",
       "      <td>0</td>\n",
       "      <td>1</td>\n",
       "      <td>0</td>\n",
       "      <td>0</td>\n",
       "      <td>0</td>\n",
       "      <td>0</td>\n",
       "      <td>...</td>\n",
       "      <td>0</td>\n",
       "      <td>0</td>\n",
       "      <td>0</td>\n",
       "      <td>0</td>\n",
       "      <td>0</td>\n",
       "      <td>0</td>\n",
       "      <td>0</td>\n",
       "      <td>0</td>\n",
       "      <td>1</td>\n",
       "      <td>0</td>\n",
       "    </tr>\n",
       "    <tr>\n",
       "      <th>2</th>\n",
       "      <td>3.295837</td>\n",
       "      <td>2.188856</td>\n",
       "      <td>0</td>\n",
       "      <td>1</td>\n",
       "      <td>0</td>\n",
       "      <td>0</td>\n",
       "      <td>0</td>\n",
       "      <td>0</td>\n",
       "      <td>0</td>\n",
       "      <td>0</td>\n",
       "      <td>...</td>\n",
       "      <td>0</td>\n",
       "      <td>0</td>\n",
       "      <td>0</td>\n",
       "      <td>0</td>\n",
       "      <td>0</td>\n",
       "      <td>0</td>\n",
       "      <td>1</td>\n",
       "      <td>0</td>\n",
       "      <td>0</td>\n",
       "      <td>0</td>\n",
       "    </tr>\n",
       "    <tr>\n",
       "      <th>3</th>\n",
       "      <td>3.583519</td>\n",
       "      <td>3.990834</td>\n",
       "      <td>0</td>\n",
       "      <td>0</td>\n",
       "      <td>0</td>\n",
       "      <td>1</td>\n",
       "      <td>0</td>\n",
       "      <td>0</td>\n",
       "      <td>0</td>\n",
       "      <td>0</td>\n",
       "      <td>...</td>\n",
       "      <td>0</td>\n",
       "      <td>0</td>\n",
       "      <td>0</td>\n",
       "      <td>0</td>\n",
       "      <td>0</td>\n",
       "      <td>0</td>\n",
       "      <td>1</td>\n",
       "      <td>0</td>\n",
       "      <td>1</td>\n",
       "      <td>0</td>\n",
       "    </tr>\n",
       "    <tr>\n",
       "      <th>4</th>\n",
       "      <td>3.583519</td>\n",
       "      <td>2.202765</td>\n",
       "      <td>0</td>\n",
       "      <td>1</td>\n",
       "      <td>1</td>\n",
       "      <td>0</td>\n",
       "      <td>0</td>\n",
       "      <td>0</td>\n",
       "      <td>0</td>\n",
       "      <td>0</td>\n",
       "      <td>...</td>\n",
       "      <td>0</td>\n",
       "      <td>0</td>\n",
       "      <td>0</td>\n",
       "      <td>0</td>\n",
       "      <td>0</td>\n",
       "      <td>0</td>\n",
       "      <td>1</td>\n",
       "      <td>1</td>\n",
       "      <td>0</td>\n",
       "      <td>0</td>\n",
       "    </tr>\n",
       "  </tbody>\n",
       "</table>\n",
       "<p>5 rows × 23 columns</p>\n",
       "</div>"
      ],
      "text/plain": [
       "    Age_log  Fare_log  Pclass_2  Pclass_3  Sex_male  SibSp_1  SibSp_2  \\\n",
       "0  3.135494  2.110213         0         1         1        1        0   \n",
       "1  3.663562  4.280593         0         0         0        1        0   \n",
       "2  3.295837  2.188856         0         1         0        0        0   \n",
       "3  3.583519  3.990834         0         0         0        1        0   \n",
       "4  3.583519  2.202765         0         1         1        0        0   \n",
       "\n",
       "   SibSp_3  SibSp_4  SibSp_5  ...  Parch_3  Parch_4  Parch_5  Parch_6  \\\n",
       "0        0        0        0  ...        0        0        0        0   \n",
       "1        0        0        0  ...        0        0        0        0   \n",
       "2        0        0        0  ...        0        0        0        0   \n",
       "3        0        0        0  ...        0        0        0        0   \n",
       "4        0        0        0  ...        0        0        0        0   \n",
       "\n",
       "   Parch_9  Embarked_Q  Embarked_S  Name_cat_Mr  Name_cat_Mrs  Name_cat_Other  \n",
       "0        0           0           1            1             0               0  \n",
       "1        0           0           0            0             1               0  \n",
       "2        0           0           1            0             0               0  \n",
       "3        0           0           1            0             1               0  \n",
       "4        0           0           1            1             0               0  \n",
       "\n",
       "[5 rows x 23 columns]"
      ]
     },
     "execution_count": 36,
     "metadata": {},
     "output_type": "execute_result"
    }
   ],
   "source": [
    "X_train.pop('train')\n",
    "X_train.head()"
   ]
  },
  {
   "cell_type": "code",
   "execution_count": 37,
   "id": "53423bc2",
   "metadata": {
    "execution": {
     "iopub.execute_input": "2022-10-24T02:19:59.523903Z",
     "iopub.status.busy": "2022-10-24T02:19:59.523504Z",
     "iopub.status.idle": "2022-10-24T02:19:59.543543Z",
     "shell.execute_reply": "2022-10-24T02:19:59.542719Z"
    },
    "papermill": {
     "duration": 0.04676,
     "end_time": "2022-10-24T02:19:59.545577",
     "exception": false,
     "start_time": "2022-10-24T02:19:59.498817",
     "status": "completed"
    },
    "tags": []
   },
   "outputs": [
    {
     "data": {
      "text/html": [
       "<div>\n",
       "<style scoped>\n",
       "    .dataframe tbody tr th:only-of-type {\n",
       "        vertical-align: middle;\n",
       "    }\n",
       "\n",
       "    .dataframe tbody tr th {\n",
       "        vertical-align: top;\n",
       "    }\n",
       "\n",
       "    .dataframe thead th {\n",
       "        text-align: right;\n",
       "    }\n",
       "</style>\n",
       "<table border=\"1\" class=\"dataframe\">\n",
       "  <thead>\n",
       "    <tr style=\"text-align: right;\">\n",
       "      <th></th>\n",
       "      <th>Age_log</th>\n",
       "      <th>Fare_log</th>\n",
       "      <th>Pclass_2</th>\n",
       "      <th>Pclass_3</th>\n",
       "      <th>Sex_male</th>\n",
       "      <th>SibSp_1</th>\n",
       "      <th>SibSp_2</th>\n",
       "      <th>SibSp_3</th>\n",
       "      <th>SibSp_4</th>\n",
       "      <th>SibSp_5</th>\n",
       "      <th>...</th>\n",
       "      <th>Parch_3</th>\n",
       "      <th>Parch_4</th>\n",
       "      <th>Parch_5</th>\n",
       "      <th>Parch_6</th>\n",
       "      <th>Parch_9</th>\n",
       "      <th>Embarked_Q</th>\n",
       "      <th>Embarked_S</th>\n",
       "      <th>Name_cat_Mr</th>\n",
       "      <th>Name_cat_Mrs</th>\n",
       "      <th>Name_cat_Other</th>\n",
       "    </tr>\n",
       "  </thead>\n",
       "  <tbody>\n",
       "    <tr>\n",
       "      <th>891</th>\n",
       "      <td>3.569533</td>\n",
       "      <td>2.178064</td>\n",
       "      <td>0</td>\n",
       "      <td>1</td>\n",
       "      <td>1</td>\n",
       "      <td>0</td>\n",
       "      <td>0</td>\n",
       "      <td>0</td>\n",
       "      <td>0</td>\n",
       "      <td>0</td>\n",
       "      <td>...</td>\n",
       "      <td>0</td>\n",
       "      <td>0</td>\n",
       "      <td>0</td>\n",
       "      <td>0</td>\n",
       "      <td>0</td>\n",
       "      <td>1</td>\n",
       "      <td>0</td>\n",
       "      <td>1</td>\n",
       "      <td>0</td>\n",
       "      <td>0</td>\n",
       "    </tr>\n",
       "    <tr>\n",
       "      <th>892</th>\n",
       "      <td>3.871201</td>\n",
       "      <td>2.079442</td>\n",
       "      <td>0</td>\n",
       "      <td>1</td>\n",
       "      <td>0</td>\n",
       "      <td>1</td>\n",
       "      <td>0</td>\n",
       "      <td>0</td>\n",
       "      <td>0</td>\n",
       "      <td>0</td>\n",
       "      <td>...</td>\n",
       "      <td>0</td>\n",
       "      <td>0</td>\n",
       "      <td>0</td>\n",
       "      <td>0</td>\n",
       "      <td>0</td>\n",
       "      <td>0</td>\n",
       "      <td>1</td>\n",
       "      <td>0</td>\n",
       "      <td>1</td>\n",
       "      <td>0</td>\n",
       "    </tr>\n",
       "    <tr>\n",
       "      <th>893</th>\n",
       "      <td>4.143135</td>\n",
       "      <td>2.369075</td>\n",
       "      <td>1</td>\n",
       "      <td>0</td>\n",
       "      <td>1</td>\n",
       "      <td>0</td>\n",
       "      <td>0</td>\n",
       "      <td>0</td>\n",
       "      <td>0</td>\n",
       "      <td>0</td>\n",
       "      <td>...</td>\n",
       "      <td>0</td>\n",
       "      <td>0</td>\n",
       "      <td>0</td>\n",
       "      <td>0</td>\n",
       "      <td>0</td>\n",
       "      <td>1</td>\n",
       "      <td>0</td>\n",
       "      <td>1</td>\n",
       "      <td>0</td>\n",
       "      <td>0</td>\n",
       "    </tr>\n",
       "    <tr>\n",
       "      <th>894</th>\n",
       "      <td>3.332205</td>\n",
       "      <td>2.268252</td>\n",
       "      <td>0</td>\n",
       "      <td>1</td>\n",
       "      <td>1</td>\n",
       "      <td>0</td>\n",
       "      <td>0</td>\n",
       "      <td>0</td>\n",
       "      <td>0</td>\n",
       "      <td>0</td>\n",
       "      <td>...</td>\n",
       "      <td>0</td>\n",
       "      <td>0</td>\n",
       "      <td>0</td>\n",
       "      <td>0</td>\n",
       "      <td>0</td>\n",
       "      <td>0</td>\n",
       "      <td>1</td>\n",
       "      <td>1</td>\n",
       "      <td>0</td>\n",
       "      <td>0</td>\n",
       "    </tr>\n",
       "    <tr>\n",
       "      <th>895</th>\n",
       "      <td>3.135494</td>\n",
       "      <td>2.586824</td>\n",
       "      <td>0</td>\n",
       "      <td>1</td>\n",
       "      <td>0</td>\n",
       "      <td>1</td>\n",
       "      <td>0</td>\n",
       "      <td>0</td>\n",
       "      <td>0</td>\n",
       "      <td>0</td>\n",
       "      <td>...</td>\n",
       "      <td>0</td>\n",
       "      <td>0</td>\n",
       "      <td>0</td>\n",
       "      <td>0</td>\n",
       "      <td>0</td>\n",
       "      <td>0</td>\n",
       "      <td>1</td>\n",
       "      <td>0</td>\n",
       "      <td>1</td>\n",
       "      <td>0</td>\n",
       "    </tr>\n",
       "  </tbody>\n",
       "</table>\n",
       "<p>5 rows × 23 columns</p>\n",
       "</div>"
      ],
      "text/plain": [
       "      Age_log  Fare_log  Pclass_2  Pclass_3  Sex_male  SibSp_1  SibSp_2  \\\n",
       "891  3.569533  2.178064         0         1         1        0        0   \n",
       "892  3.871201  2.079442         0         1         0        1        0   \n",
       "893  4.143135  2.369075         1         0         1        0        0   \n",
       "894  3.332205  2.268252         0         1         1        0        0   \n",
       "895  3.135494  2.586824         0         1         0        1        0   \n",
       "\n",
       "     SibSp_3  SibSp_4  SibSp_5  ...  Parch_3  Parch_4  Parch_5  Parch_6  \\\n",
       "891        0        0        0  ...        0        0        0        0   \n",
       "892        0        0        0  ...        0        0        0        0   \n",
       "893        0        0        0  ...        0        0        0        0   \n",
       "894        0        0        0  ...        0        0        0        0   \n",
       "895        0        0        0  ...        0        0        0        0   \n",
       "\n",
       "     Parch_9  Embarked_Q  Embarked_S  Name_cat_Mr  Name_cat_Mrs  \\\n",
       "891        0           1           0            1             0   \n",
       "892        0           0           1            0             1   \n",
       "893        0           1           0            1             0   \n",
       "894        0           0           1            1             0   \n",
       "895        0           0           1            0             1   \n",
       "\n",
       "     Name_cat_Other  \n",
       "891               0  \n",
       "892               0  \n",
       "893               0  \n",
       "894               0  \n",
       "895               0  \n",
       "\n",
       "[5 rows x 23 columns]"
      ]
     },
     "execution_count": 37,
     "metadata": {},
     "output_type": "execute_result"
    }
   ],
   "source": [
    "X_test.pop('train')\n",
    "X_test.head()"
   ]
  },
  {
   "cell_type": "code",
   "execution_count": 38,
   "id": "001b6cf6",
   "metadata": {
    "execution": {
     "iopub.execute_input": "2022-10-24T02:19:59.594967Z",
     "iopub.status.busy": "2022-10-24T02:19:59.594307Z",
     "iopub.status.idle": "2022-10-24T02:19:59.769624Z",
     "shell.execute_reply": "2022-10-24T02:19:59.768062Z"
    },
    "papermill": {
     "duration": 0.203224,
     "end_time": "2022-10-24T02:19:59.772448",
     "exception": false,
     "start_time": "2022-10-24T02:19:59.569224",
     "status": "completed"
    },
    "tags": []
   },
   "outputs": [
    {
     "name": "stderr",
     "output_type": "stream",
     "text": [
      "C:\\Users\\0x17h\\anaconda3\\lib\\site-packages\\pandas\\core\\indexing.py:1738: SettingWithCopyWarning: \n",
      "A value is trying to be set on a copy of a slice from a DataFrame.\n",
      "Try using .loc[row_indexer,col_indexer] = value instead\n",
      "\n",
      "See the caveats in the documentation: https://pandas.pydata.org/pandas-docs/stable/user_guide/indexing.html#returning-a-view-versus-a-copy\n",
      "  self._setitem_single_column(loc, value[:, i].tolist(), pi)\n",
      "C:\\Users\\0x17h\\anaconda3\\lib\\site-packages\\pandas\\core\\indexing.py:1738: SettingWithCopyWarning: \n",
      "A value is trying to be set on a copy of a slice from a DataFrame.\n",
      "Try using .loc[row_indexer,col_indexer] = value instead\n",
      "\n",
      "See the caveats in the documentation: https://pandas.pydata.org/pandas-docs/stable/user_guide/indexing.html#returning-a-view-versus-a-copy\n",
      "  self._setitem_single_column(loc, value[:, i].tolist(), pi)\n"
     ]
    },
    {
     "data": {
      "text/html": [
       "<div>\n",
       "<style scoped>\n",
       "    .dataframe tbody tr th:only-of-type {\n",
       "        vertical-align: middle;\n",
       "    }\n",
       "\n",
       "    .dataframe tbody tr th {\n",
       "        vertical-align: top;\n",
       "    }\n",
       "\n",
       "    .dataframe thead th {\n",
       "        text-align: right;\n",
       "    }\n",
       "</style>\n",
       "<table border=\"1\" class=\"dataframe\">\n",
       "  <thead>\n",
       "    <tr style=\"text-align: right;\">\n",
       "      <th></th>\n",
       "      <th>Age_log</th>\n",
       "      <th>Fare_log</th>\n",
       "      <th>Pclass_2</th>\n",
       "      <th>Pclass_3</th>\n",
       "      <th>Sex_male</th>\n",
       "      <th>SibSp_1</th>\n",
       "      <th>SibSp_2</th>\n",
       "      <th>SibSp_3</th>\n",
       "      <th>SibSp_4</th>\n",
       "      <th>SibSp_5</th>\n",
       "      <th>...</th>\n",
       "      <th>Parch_3</th>\n",
       "      <th>Parch_4</th>\n",
       "      <th>Parch_5</th>\n",
       "      <th>Parch_6</th>\n",
       "      <th>Parch_9</th>\n",
       "      <th>Embarked_Q</th>\n",
       "      <th>Embarked_S</th>\n",
       "      <th>Name_cat_Mr</th>\n",
       "      <th>Name_cat_Mrs</th>\n",
       "      <th>Name_cat_Other</th>\n",
       "    </tr>\n",
       "  </thead>\n",
       "  <tbody>\n",
       "    <tr>\n",
       "      <th>891</th>\n",
       "      <td>0.480933</td>\n",
       "      <td>-0.807439</td>\n",
       "      <td>0</td>\n",
       "      <td>1</td>\n",
       "      <td>1</td>\n",
       "      <td>0</td>\n",
       "      <td>0</td>\n",
       "      <td>0</td>\n",
       "      <td>0</td>\n",
       "      <td>0</td>\n",
       "      <td>...</td>\n",
       "      <td>0</td>\n",
       "      <td>0</td>\n",
       "      <td>0</td>\n",
       "      <td>0</td>\n",
       "      <td>0</td>\n",
       "      <td>1</td>\n",
       "      <td>0</td>\n",
       "      <td>1</td>\n",
       "      <td>0</td>\n",
       "      <td>0</td>\n",
       "    </tr>\n",
       "    <tr>\n",
       "      <th>892</th>\n",
       "      <td>0.965467</td>\n",
       "      <td>-0.909406</td>\n",
       "      <td>0</td>\n",
       "      <td>1</td>\n",
       "      <td>0</td>\n",
       "      <td>1</td>\n",
       "      <td>0</td>\n",
       "      <td>0</td>\n",
       "      <td>0</td>\n",
       "      <td>0</td>\n",
       "      <td>...</td>\n",
       "      <td>0</td>\n",
       "      <td>0</td>\n",
       "      <td>0</td>\n",
       "      <td>0</td>\n",
       "      <td>0</td>\n",
       "      <td>0</td>\n",
       "      <td>1</td>\n",
       "      <td>0</td>\n",
       "      <td>1</td>\n",
       "      <td>0</td>\n",
       "    </tr>\n",
       "    <tr>\n",
       "      <th>893</th>\n",
       "      <td>1.402241</td>\n",
       "      <td>-0.609952</td>\n",
       "      <td>1</td>\n",
       "      <td>0</td>\n",
       "      <td>1</td>\n",
       "      <td>0</td>\n",
       "      <td>0</td>\n",
       "      <td>0</td>\n",
       "      <td>0</td>\n",
       "      <td>0</td>\n",
       "      <td>...</td>\n",
       "      <td>0</td>\n",
       "      <td>0</td>\n",
       "      <td>0</td>\n",
       "      <td>0</td>\n",
       "      <td>0</td>\n",
       "      <td>1</td>\n",
       "      <td>0</td>\n",
       "      <td>1</td>\n",
       "      <td>0</td>\n",
       "      <td>0</td>\n",
       "    </tr>\n",
       "    <tr>\n",
       "      <th>894</th>\n",
       "      <td>0.099742</td>\n",
       "      <td>-0.714193</td>\n",
       "      <td>0</td>\n",
       "      <td>1</td>\n",
       "      <td>1</td>\n",
       "      <td>0</td>\n",
       "      <td>0</td>\n",
       "      <td>0</td>\n",
       "      <td>0</td>\n",
       "      <td>0</td>\n",
       "      <td>...</td>\n",
       "      <td>0</td>\n",
       "      <td>0</td>\n",
       "      <td>0</td>\n",
       "      <td>0</td>\n",
       "      <td>0</td>\n",
       "      <td>0</td>\n",
       "      <td>1</td>\n",
       "      <td>1</td>\n",
       "      <td>0</td>\n",
       "      <td>0</td>\n",
       "    </tr>\n",
       "    <tr>\n",
       "      <th>895</th>\n",
       "      <td>-0.216211</td>\n",
       "      <td>-0.384820</td>\n",
       "      <td>0</td>\n",
       "      <td>1</td>\n",
       "      <td>0</td>\n",
       "      <td>1</td>\n",
       "      <td>0</td>\n",
       "      <td>0</td>\n",
       "      <td>0</td>\n",
       "      <td>0</td>\n",
       "      <td>...</td>\n",
       "      <td>0</td>\n",
       "      <td>0</td>\n",
       "      <td>0</td>\n",
       "      <td>0</td>\n",
       "      <td>0</td>\n",
       "      <td>0</td>\n",
       "      <td>1</td>\n",
       "      <td>0</td>\n",
       "      <td>1</td>\n",
       "      <td>0</td>\n",
       "    </tr>\n",
       "  </tbody>\n",
       "</table>\n",
       "<p>5 rows × 23 columns</p>\n",
       "</div>"
      ],
      "text/plain": [
       "      Age_log  Fare_log  Pclass_2  Pclass_3  Sex_male  SibSp_1  SibSp_2  \\\n",
       "891  0.480933 -0.807439         0         1         1        0        0   \n",
       "892  0.965467 -0.909406         0         1         0        1        0   \n",
       "893  1.402241 -0.609952         1         0         1        0        0   \n",
       "894  0.099742 -0.714193         0         1         1        0        0   \n",
       "895 -0.216211 -0.384820         0         1         0        1        0   \n",
       "\n",
       "     SibSp_3  SibSp_4  SibSp_5  ...  Parch_3  Parch_4  Parch_5  Parch_6  \\\n",
       "891        0        0        0  ...        0        0        0        0   \n",
       "892        0        0        0  ...        0        0        0        0   \n",
       "893        0        0        0  ...        0        0        0        0   \n",
       "894        0        0        0  ...        0        0        0        0   \n",
       "895        0        0        0  ...        0        0        0        0   \n",
       "\n",
       "     Parch_9  Embarked_Q  Embarked_S  Name_cat_Mr  Name_cat_Mrs  \\\n",
       "891        0           1           0            1             0   \n",
       "892        0           0           1            0             1   \n",
       "893        0           1           0            1             0   \n",
       "894        0           0           1            1             0   \n",
       "895        0           0           1            0             1   \n",
       "\n",
       "     Name_cat_Other  \n",
       "891               0  \n",
       "892               0  \n",
       "893               0  \n",
       "894               0  \n",
       "895               0  \n",
       "\n",
       "[5 rows x 23 columns]"
      ]
     },
     "execution_count": 38,
     "metadata": {},
     "output_type": "execute_result"
    }
   ],
   "source": [
    "# standartization\n",
    "numeric_features = ['Age_log', 'Fare_log']\n",
    "\n",
    "from sklearn.preprocessing import StandardScaler\n",
    "\n",
    "scaler = StandardScaler()\n",
    "X_train.loc[:, numeric_features] = scaler.fit_transform(X_train[numeric_features])\n",
    "X_test.loc[:, numeric_features] = scaler.transform(X_test[numeric_features])\n",
    "\n",
    "X_test.head()"
   ]
  },
  {
   "cell_type": "markdown",
   "id": "6b4ea85e",
   "metadata": {
    "papermill": {
     "duration": 0.023674,
     "end_time": "2022-10-24T02:19:59.819736",
     "exception": false,
     "start_time": "2022-10-24T02:19:59.796062",
     "status": "completed"
    },
    "tags": []
   },
   "source": [
    "## Model"
   ]
  },
  {
   "cell_type": "markdown",
   "id": "be160420",
   "metadata": {
    "papermill": {
     "duration": 0.023504,
     "end_time": "2022-10-24T02:19:59.867595",
     "exception": false,
     "start_time": "2022-10-24T02:19:59.844091",
     "status": "completed"
    },
    "tags": []
   },
   "source": [
    "### Logistic regression"
   ]
  },
  {
   "cell_type": "code",
   "execution_count": 39,
   "id": "730ff75c",
   "metadata": {
    "execution": {
     "iopub.execute_input": "2022-10-24T02:19:59.918887Z",
     "iopub.status.busy": "2022-10-24T02:19:59.918505Z",
     "iopub.status.idle": "2022-10-24T02:20:00.098036Z",
     "shell.execute_reply": "2022-10-24T02:20:00.096384Z"
    },
    "papermill": {
     "duration": 0.210644,
     "end_time": "2022-10-24T02:20:00.102564",
     "exception": false,
     "start_time": "2022-10-24T02:19:59.891920",
     "status": "completed"
    },
    "tags": []
   },
   "outputs": [
    {
     "data": {
      "text/plain": [
       "0.8256467941507312"
      ]
     },
     "execution_count": 39,
     "metadata": {},
     "output_type": "execute_result"
    }
   ],
   "source": [
    "from sklearn.linear_model import LogisticRegression \n",
    "\n",
    "lr = LogisticRegression(random_state = 42)\n",
    "lr.fit(X_train, y)\n",
    "lr.score(X_train, y)"
   ]
  },
  {
   "cell_type": "code",
   "execution_count": 40,
   "id": "f77ce063",
   "metadata": {
    "execution": {
     "iopub.execute_input": "2022-10-24T02:20:00.218687Z",
     "iopub.status.busy": "2022-10-24T02:20:00.218305Z",
     "iopub.status.idle": "2022-10-24T02:20:00.230745Z",
     "shell.execute_reply": "2022-10-24T02:20:00.229935Z"
    },
    "papermill": {
     "duration": 0.068592,
     "end_time": "2022-10-24T02:20:00.232982",
     "exception": false,
     "start_time": "2022-10-24T02:20:00.164390",
     "status": "completed"
    },
    "tags": []
   },
   "outputs": [
    {
     "data": {
      "text/html": [
       "<div>\n",
       "<style scoped>\n",
       "    .dataframe tbody tr th:only-of-type {\n",
       "        vertical-align: middle;\n",
       "    }\n",
       "\n",
       "    .dataframe tbody tr th {\n",
       "        vertical-align: top;\n",
       "    }\n",
       "\n",
       "    .dataframe thead th {\n",
       "        text-align: right;\n",
       "    }\n",
       "</style>\n",
       "<table border=\"1\" class=\"dataframe\">\n",
       "  <thead>\n",
       "    <tr style=\"text-align: right;\">\n",
       "      <th></th>\n",
       "      <th>features</th>\n",
       "      <th>coef</th>\n",
       "    </tr>\n",
       "  </thead>\n",
       "  <tbody>\n",
       "    <tr>\n",
       "      <th>0</th>\n",
       "      <td>Age_log</td>\n",
       "      <td>-0.525171</td>\n",
       "    </tr>\n",
       "    <tr>\n",
       "      <th>1</th>\n",
       "      <td>Fare_log</td>\n",
       "      <td>0.218761</td>\n",
       "    </tr>\n",
       "    <tr>\n",
       "      <th>2</th>\n",
       "      <td>Pclass_2</td>\n",
       "      <td>-0.755894</td>\n",
       "    </tr>\n",
       "    <tr>\n",
       "      <th>3</th>\n",
       "      <td>Pclass_3</td>\n",
       "      <td>-1.705085</td>\n",
       "    </tr>\n",
       "    <tr>\n",
       "      <th>4</th>\n",
       "      <td>Sex_male</td>\n",
       "      <td>-1.507083</td>\n",
       "    </tr>\n",
       "    <tr>\n",
       "      <th>5</th>\n",
       "      <td>SibSp_1</td>\n",
       "      <td>-0.090499</td>\n",
       "    </tr>\n",
       "    <tr>\n",
       "      <th>6</th>\n",
       "      <td>SibSp_2</td>\n",
       "      <td>-0.333785</td>\n",
       "    </tr>\n",
       "    <tr>\n",
       "      <th>7</th>\n",
       "      <td>SibSp_3</td>\n",
       "      <td>-1.446446</td>\n",
       "    </tr>\n",
       "    <tr>\n",
       "      <th>8</th>\n",
       "      <td>SibSp_4</td>\n",
       "      <td>-1.461700</td>\n",
       "    </tr>\n",
       "    <tr>\n",
       "      <th>9</th>\n",
       "      <td>SibSp_5</td>\n",
       "      <td>-1.053707</td>\n",
       "    </tr>\n",
       "    <tr>\n",
       "      <th>10</th>\n",
       "      <td>SibSp_8</td>\n",
       "      <td>-1.092281</td>\n",
       "    </tr>\n",
       "    <tr>\n",
       "      <th>11</th>\n",
       "      <td>Parch_1</td>\n",
       "      <td>-0.264009</td>\n",
       "    </tr>\n",
       "    <tr>\n",
       "      <th>12</th>\n",
       "      <td>Parch_2</td>\n",
       "      <td>-0.582391</td>\n",
       "    </tr>\n",
       "    <tr>\n",
       "      <th>13</th>\n",
       "      <td>Parch_3</td>\n",
       "      <td>-0.094907</td>\n",
       "    </tr>\n",
       "    <tr>\n",
       "      <th>14</th>\n",
       "      <td>Parch_4</td>\n",
       "      <td>-1.009484</td>\n",
       "    </tr>\n",
       "    <tr>\n",
       "      <th>15</th>\n",
       "      <td>Parch_5</td>\n",
       "      <td>-0.903272</td>\n",
       "    </tr>\n",
       "    <tr>\n",
       "      <th>16</th>\n",
       "      <td>Parch_6</td>\n",
       "      <td>-0.528428</td>\n",
       "    </tr>\n",
       "    <tr>\n",
       "      <th>17</th>\n",
       "      <td>Parch_9</td>\n",
       "      <td>0.000000</td>\n",
       "    </tr>\n",
       "    <tr>\n",
       "      <th>18</th>\n",
       "      <td>Embarked_Q</td>\n",
       "      <td>-0.014566</td>\n",
       "    </tr>\n",
       "    <tr>\n",
       "      <th>19</th>\n",
       "      <td>Embarked_S</td>\n",
       "      <td>-0.395889</td>\n",
       "    </tr>\n",
       "    <tr>\n",
       "      <th>20</th>\n",
       "      <td>Name_cat_Mr</td>\n",
       "      <td>-0.951634</td>\n",
       "    </tr>\n",
       "    <tr>\n",
       "      <th>21</th>\n",
       "      <td>Name_cat_Mrs</td>\n",
       "      <td>0.728025</td>\n",
       "    </tr>\n",
       "    <tr>\n",
       "      <th>22</th>\n",
       "      <td>Name_cat_Other</td>\n",
       "      <td>0.199933</td>\n",
       "    </tr>\n",
       "  </tbody>\n",
       "</table>\n",
       "</div>"
      ],
      "text/plain": [
       "          features      coef\n",
       "0          Age_log -0.525171\n",
       "1         Fare_log  0.218761\n",
       "2         Pclass_2 -0.755894\n",
       "3         Pclass_3 -1.705085\n",
       "4         Sex_male -1.507083\n",
       "5          SibSp_1 -0.090499\n",
       "6          SibSp_2 -0.333785\n",
       "7          SibSp_3 -1.446446\n",
       "8          SibSp_4 -1.461700\n",
       "9          SibSp_5 -1.053707\n",
       "10         SibSp_8 -1.092281\n",
       "11         Parch_1 -0.264009\n",
       "12         Parch_2 -0.582391\n",
       "13         Parch_3 -0.094907\n",
       "14         Parch_4 -1.009484\n",
       "15         Parch_5 -0.903272\n",
       "16         Parch_6 -0.528428\n",
       "17         Parch_9  0.000000\n",
       "18      Embarked_Q -0.014566\n",
       "19      Embarked_S -0.395889\n",
       "20     Name_cat_Mr -0.951634\n",
       "21    Name_cat_Mrs  0.728025\n",
       "22  Name_cat_Other  0.199933"
      ]
     },
     "execution_count": 40,
     "metadata": {},
     "output_type": "execute_result"
    }
   ],
   "source": [
    "pd.DataFrame({'features' : X_train.columns, 'coef' : lr.coef_[0]})"
   ]
  },
  {
   "cell_type": "code",
   "execution_count": 41,
   "id": "1f91027c",
   "metadata": {
    "execution": {
     "iopub.execute_input": "2022-10-24T02:20:00.285040Z",
     "iopub.status.busy": "2022-10-24T02:20:00.284358Z",
     "iopub.status.idle": "2022-10-24T02:20:00.300141Z",
     "shell.execute_reply": "2022-10-24T02:20:00.299104Z"
    },
    "papermill": {
     "duration": 0.044427,
     "end_time": "2022-10-24T02:20:00.302920",
     "exception": false,
     "start_time": "2022-10-24T02:20:00.258493",
     "status": "completed"
    },
    "tags": []
   },
   "outputs": [
    {
     "data": {
      "text/html": [
       "<div>\n",
       "<style scoped>\n",
       "    .dataframe tbody tr th:only-of-type {\n",
       "        vertical-align: middle;\n",
       "    }\n",
       "\n",
       "    .dataframe tbody tr th {\n",
       "        vertical-align: top;\n",
       "    }\n",
       "\n",
       "    .dataframe thead th {\n",
       "        text-align: right;\n",
       "    }\n",
       "</style>\n",
       "<table border=\"1\" class=\"dataframe\">\n",
       "  <thead>\n",
       "    <tr style=\"text-align: right;\">\n",
       "      <th></th>\n",
       "      <th>Pclass</th>\n",
       "      <th>Sex</th>\n",
       "      <th>SibSp</th>\n",
       "      <th>Parch</th>\n",
       "      <th>Embarked</th>\n",
       "      <th>train</th>\n",
       "      <th>Age_log</th>\n",
       "      <th>Fare_log</th>\n",
       "      <th>Name_cat</th>\n",
       "    </tr>\n",
       "  </thead>\n",
       "  <tbody>\n",
       "    <tr>\n",
       "      <th>1233</th>\n",
       "      <td>3</td>\n",
       "      <td>male</td>\n",
       "      <td>1</td>\n",
       "      <td>9</td>\n",
       "      <td>S</td>\n",
       "      <td>0</td>\n",
       "      <td>3.433319</td>\n",
       "      <td>4.256322</td>\n",
       "      <td>Mr</td>\n",
       "    </tr>\n",
       "    <tr>\n",
       "      <th>1256</th>\n",
       "      <td>3</td>\n",
       "      <td>female</td>\n",
       "      <td>1</td>\n",
       "      <td>9</td>\n",
       "      <td>S</td>\n",
       "      <td>0</td>\n",
       "      <td>3.580323</td>\n",
       "      <td>4.256322</td>\n",
       "      <td>Mrs</td>\n",
       "    </tr>\n",
       "  </tbody>\n",
       "</table>\n",
       "</div>"
      ],
      "text/plain": [
       "     Pclass     Sex SibSp Parch Embarked  train   Age_log  Fare_log Name_cat\n",
       "1233      3    male     1     9        S      0  3.433319  4.256322       Mr\n",
       "1256      3  female     1     9        S      0  3.580323  4.256322      Mrs"
      ]
     },
     "execution_count": 41,
     "metadata": {},
     "output_type": "execute_result"
    }
   ],
   "source": [
    "# only in test dataset!\n",
    "common_data[common_data.Parch == 9]"
   ]
  },
  {
   "cell_type": "markdown",
   "id": "c31ee54a",
   "metadata": {
    "papermill": {
     "duration": 0.026039,
     "end_time": "2022-10-24T02:20:00.353535",
     "exception": false,
     "start_time": "2022-10-24T02:20:00.327496",
     "status": "completed"
    },
    "tags": []
   },
   "source": [
    "### Random Forest"
   ]
  },
  {
   "cell_type": "code",
   "execution_count": 42,
   "id": "94022332",
   "metadata": {
    "execution": {
     "iopub.execute_input": "2022-10-24T02:20:00.404533Z",
     "iopub.status.busy": "2022-10-24T02:20:00.403871Z",
     "iopub.status.idle": "2022-10-24T02:20:00.408951Z",
     "shell.execute_reply": "2022-10-24T02:20:00.407661Z"
    },
    "papermill": {
     "duration": 0.033704,
     "end_time": "2022-10-24T02:20:00.411911",
     "exception": false,
     "start_time": "2022-10-24T02:20:00.378207",
     "status": "completed"
    },
    "tags": []
   },
   "outputs": [],
   "source": [
    "from sklearn.model_selection import GridSearchCV"
   ]
  },
  {
   "cell_type": "code",
   "execution_count": 43,
   "id": "9db9a832",
   "metadata": {
    "execution": {
     "iopub.execute_input": "2022-10-24T02:20:00.462745Z",
     "iopub.status.busy": "2022-10-24T02:20:00.462332Z",
     "iopub.status.idle": "2022-10-24T02:20:00.468045Z",
     "shell.execute_reply": "2022-10-24T02:20:00.466778Z"
    },
    "papermill": {
     "duration": 0.03452,
     "end_time": "2022-10-24T02:20:00.470700",
     "exception": false,
     "start_time": "2022-10-24T02:20:00.436180",
     "status": "completed"
    },
    "tags": []
   },
   "outputs": [],
   "source": [
    "parameters = {'n_estimators': range(10, 500, 50), \n",
    "              'max_features': range(2, X_train.shape[1] + 1, 2), \n",
    "              'max_depth': [5, 10, 20, 50]}"
   ]
  },
  {
   "cell_type": "code",
   "execution_count": 44,
   "id": "fdb2b03a",
   "metadata": {
    "execution": {
     "iopub.execute_input": "2022-10-24T02:20:00.521494Z",
     "iopub.status.busy": "2022-10-24T02:20:00.521106Z",
     "iopub.status.idle": "2022-10-24T02:39:04.201248Z",
     "shell.execute_reply": "2022-10-24T02:39:04.199920Z"
    },
    "papermill": {
     "duration": 1143.734095,
     "end_time": "2022-10-24T02:39:04.229337",
     "exception": false,
     "start_time": "2022-10-24T02:20:00.495242",
     "status": "completed"
    },
    "tags": []
   },
   "outputs": [
    {
     "data": {
      "text/plain": [
       "(0.8380371992636324,\n",
       " {'max_depth': 10, 'max_features': 16, 'n_estimators': 360})"
      ]
     },
     "execution_count": 44,
     "metadata": {},
     "output_type": "execute_result"
    }
   ],
   "source": [
    "from sklearn.ensemble import RandomForestClassifier\n",
    "\n",
    "rf = GridSearchCV(RandomForestClassifier(random_state = 42), parameters)\n",
    "rf.fit(X_train, y)\n",
    "rf.best_score_, rf.best_params_"
   ]
  },
  {
   "cell_type": "markdown",
   "id": "e4df6f11",
   "metadata": {
    "papermill": {
     "duration": 0.024612,
     "end_time": "2022-10-24T02:39:04.278729",
     "exception": false,
     "start_time": "2022-10-24T02:39:04.254117",
     "status": "completed"
    },
    "tags": []
   },
   "source": [
    "### SVM"
   ]
  },
  {
   "cell_type": "code",
   "execution_count": 45,
   "id": "3bd2a09b",
   "metadata": {
    "execution": {
     "iopub.execute_input": "2022-10-24T02:39:04.331245Z",
     "iopub.status.busy": "2022-10-24T02:39:04.330858Z",
     "iopub.status.idle": "2022-10-24T02:39:04.336503Z",
     "shell.execute_reply": "2022-10-24T02:39:04.335310Z"
    },
    "papermill": {
     "duration": 0.035351,
     "end_time": "2022-10-24T02:39:04.338817",
     "exception": false,
     "start_time": "2022-10-24T02:39:04.303466",
     "status": "completed"
    },
    "tags": []
   },
   "outputs": [],
   "source": [
    "parameters = {'kernel': ['linear', 'poly', 'rbf', 'sigmoid'], \n",
    "              'nu': np.arange(0.3, 0.8, 0.2), \n",
    "              'degree': [2, 3, 5], \n",
    "              'gamma' : ['scale', 'auto']}"
   ]
  },
  {
   "cell_type": "code",
   "execution_count": 46,
   "id": "7f8ce4d9",
   "metadata": {
    "execution": {
     "iopub.execute_input": "2022-10-24T02:39:04.392525Z",
     "iopub.status.busy": "2022-10-24T02:39:04.392108Z",
     "iopub.status.idle": "2022-10-24T02:39:17.260329Z",
     "shell.execute_reply": "2022-10-24T02:39:17.259161Z"
    },
    "papermill": {
     "duration": 12.897205,
     "end_time": "2022-10-24T02:39:17.262718",
     "exception": false,
     "start_time": "2022-10-24T02:39:04.365513",
     "status": "completed"
    },
    "tags": []
   },
   "outputs": [
    {
     "data": {
      "text/plain": [
       "(0.8177870881736812,\n",
       " {'degree': 2, 'gamma': 'scale', 'kernel': 'poly', 'nu': 0.5})"
      ]
     },
     "execution_count": 46,
     "metadata": {},
     "output_type": "execute_result"
    }
   ],
   "source": [
    "from sklearn import svm\n",
    "\n",
    "svm = GridSearchCV(svm.NuSVC(random_state = 42), parameters)\n",
    "svm.fit(X_train, y)\n",
    "svm.best_score_, svm.best_params_"
   ]
  },
  {
   "cell_type": "code",
   "execution_count": 47,
   "id": "18a5acff",
   "metadata": {
    "execution": {
     "iopub.execute_input": "2022-10-24T02:39:17.316991Z",
     "iopub.status.busy": "2022-10-24T02:39:17.316543Z",
     "iopub.status.idle": "2022-10-24T02:39:17.422060Z",
     "shell.execute_reply": "2022-10-24T02:39:17.420105Z"
    },
    "papermill": {
     "duration": 0.139312,
     "end_time": "2022-10-24T02:39:17.427120",
     "exception": false,
     "start_time": "2022-10-24T02:39:17.287808",
     "status": "completed"
    },
    "tags": []
   },
   "outputs": [],
   "source": [
    "rf_pred = rf.best_estimator_.predict(X_test).astype(int)\n",
    "lr_pred = lr.predict(X_test).astype(int)\n",
    "svm_pred = svm.best_estimator_.predict(X_test).astype(int)"
   ]
  },
  {
   "cell_type": "code",
   "execution_count": 48,
   "id": "cbf4911a",
   "metadata": {
    "execution": {
     "iopub.execute_input": "2022-10-24T02:39:17.534547Z",
     "iopub.status.busy": "2022-10-24T02:39:17.534142Z",
     "iopub.status.idle": "2022-10-24T02:39:17.542535Z",
     "shell.execute_reply": "2022-10-24T02:39:17.541733Z"
    },
    "papermill": {
     "duration": 0.050174,
     "end_time": "2022-10-24T02:39:17.544869",
     "exception": false,
     "start_time": "2022-10-24T02:39:17.494695",
     "status": "completed"
    },
    "tags": []
   },
   "outputs": [],
   "source": [
    "output = pd.DataFrame({'PassengerId': test_data.PassengerId, 'Survived': lr_pred})\n",
    "output.to_csv('lr_submission.csv', index = False)"
   ]
  },
  {
   "cell_type": "code",
   "execution_count": 49,
   "id": "7c40e126",
   "metadata": {
    "execution": {
     "iopub.execute_input": "2022-10-24T02:39:17.597683Z",
     "iopub.status.busy": "2022-10-24T02:39:17.596893Z",
     "iopub.status.idle": "2022-10-24T02:39:17.604124Z",
     "shell.execute_reply": "2022-10-24T02:39:17.603375Z"
    },
    "papermill": {
     "duration": 0.036726,
     "end_time": "2022-10-24T02:39:17.606489",
     "exception": false,
     "start_time": "2022-10-24T02:39:17.569763",
     "status": "completed"
    },
    "tags": []
   },
   "outputs": [],
   "source": [
    "output = pd.DataFrame({'PassengerId': test_data.PassengerId, 'Survived': rf_pred})\n",
    "output.to_csv('rf_submission.csv', index = False)"
   ]
  },
  {
   "cell_type": "code",
   "execution_count": 50,
   "id": "d4db71c4",
   "metadata": {
    "execution": {
     "iopub.execute_input": "2022-10-24T02:39:17.659453Z",
     "iopub.status.busy": "2022-10-24T02:39:17.658678Z",
     "iopub.status.idle": "2022-10-24T02:39:17.666494Z",
     "shell.execute_reply": "2022-10-24T02:39:17.665355Z"
    },
    "papermill": {
     "duration": 0.03692,
     "end_time": "2022-10-24T02:39:17.669091",
     "exception": false,
     "start_time": "2022-10-24T02:39:17.632171",
     "status": "completed"
    },
    "tags": []
   },
   "outputs": [],
   "source": [
    "output = pd.DataFrame({'PassengerId': test_data.PassengerId, 'Survived': svm_pred})\n",
    "output.to_csv('svm_submission.csv', index = False)"
   ]
  }
 ],
 "metadata": {
  "kernelspec": {
   "display_name": "Python 3",
   "language": "python",
   "name": "python3"
  },
  "language_info": {
   "codemirror_mode": {
    "name": "ipython",
    "version": 3
   },
   "file_extension": ".py",
   "mimetype": "text/x-python",
   "name": "python",
   "nbconvert_exporter": "python",
   "pygments_lexer": "ipython3",
   "version": "3.8.8"
  },
  "papermill": {
   "default_parameters": {},
   "duration": 1176.259683,
   "end_time": "2022-10-24T02:39:18.523140",
   "environment_variables": {},
   "exception": null,
   "input_path": "__notebook__.ipynb",
   "output_path": "__notebook__.ipynb",
   "parameters": {},
   "start_time": "2022-10-24T02:19:42.263457",
   "version": "2.3.4"
  }
 },
 "nbformat": 4,
 "nbformat_minor": 5
}
